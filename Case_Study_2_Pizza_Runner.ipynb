{
  "nbformat": 4,
  "nbformat_minor": 0,
  "metadata": {
    "colab": {
      "provenance": [],
      "authorship_tag": "ABX9TyO08ey/bXmCiPS1AxlLe3Wl",
      "include_colab_link": true
    },
    "kernelspec": {
      "name": "python3",
      "display_name": "Python 3"
    },
    "language_info": {
      "name": "python"
    }
  },
  "cells": [
    {
      "cell_type": "markdown",
      "metadata": {
        "id": "view-in-github",
        "colab_type": "text"
      },
      "source": [
        "<a href=\"https://colab.research.google.com/github/rupesh743/Case-Study-2---Pizza-Runner/blob/main/Case_Study_2_Pizza_Runner.ipynb\" target=\"_parent\"><img src=\"https://colab.research.google.com/assets/colab-badge.svg\" alt=\"Open In Colab\"/></a>"
      ]
    },
    {
      "cell_type": "markdown",
      "source": [
        "# **Project** - **Danny_Pizza_Runner**"
      ],
      "metadata": {
        "id": "gyx79WeE7z7z"
      }
    },
    {
      "cell_type": "code",
      "execution_count": 1,
      "metadata": {
        "colab": {
          "base_uri": "https://localhost:8080/"
        },
        "id": "qzqK6a8wI9fc",
        "outputId": "068b10c6-a196-472a-a072-20accb4327e1"
      },
      "outputs": [
        {
          "output_type": "stream",
          "name": "stdout",
          "text": [
            "\u001b[2K     \u001b[90m━━━━━━━━━━━━━━━━━━━━━━━━━━━━━━━━━━━━━━━━\u001b[0m \u001b[32m1.6/1.6 MB\u001b[0m \u001b[31m7.7 MB/s\u001b[0m eta \u001b[36m0:00:00\u001b[0m\n",
            "\u001b[?25h"
          ]
        }
      ],
      "source": [
        "# Important Extensions\n",
        "\n",
        "!pip install -q ipython-sql\n",
        "%load_ext sql\n",
        "%sql sqlite://"
      ]
    },
    {
      "cell_type": "code",
      "source": [
        "%%sql\n",
        "CREATE TABLE runners (\n",
        "  runner_id INTEGER,\n",
        "  registration_date DATE\n",
        ");\n",
        "\n",
        "-- Insert data into runners table\n",
        "INSERT INTO runners (runner_id, registration_date)\n",
        "VALUES\n",
        "  (1, '2021-01-01'),\n",
        "  (2, '2021-01-03'),\n",
        "  (3, '2021-01-08'),\n",
        "  (4, '2021-01-15');\n",
        "\n",
        "-- Drop customer_orders table if it exists\n",
        "DROP TABLE IF EXISTS customer_orders;\n",
        "\n",
        "-- Create customer_orders table\n",
        "CREATE TABLE customer_orders (\n",
        "  order_id INTEGER,\n",
        "  customer_id INTEGER,\n",
        "  pizza_id INTEGER,\n",
        "  exclusions VARCHAR(4),\n",
        "  extras VARCHAR(4),\n",
        "  order_time TIMESTAMP\n",
        ");\n",
        "\n",
        "-- Insert data into customer_orders table\n",
        "INSERT INTO customer_orders (order_id, customer_id, pizza_id, exclusions, extras, order_time)\n",
        "VALUES\n",
        "  (1, 101, 1, '', '', '2020-01-01 18:05:02'),\n",
        "  (2, 101, 1, '', '', '2020-01-01 19:00:52'),\n",
        "  (3, 102, 1, '', '', '2020-01-02 23:51:23'),\n",
        "  (3, 102, 2, '', NULL, '2020-01-02 23:51:23'),\n",
        "  (4, 103, 1, '4', '', '2020-01-04 13:23:46'),\n",
        "  (4, 103, 1, '4', '', '2020-01-04 13:23:46'),\n",
        "  (4, 103, 2, '4', '', '2020-01-04 13:23:46'),\n",
        "  (5, 104, 1, 'null', '1', '2020-01-08 21:00:29'),\n",
        "  (6, 101, 2, 'null', 'null', '2020-01-08 21:03:13'),\n",
        "  (7, 105, 2, 'null', '1', '2020-01-08 21:20:29'),\n",
        "  (8, 102, 1, 'null', 'null', '2020-01-09 23:54:33'),\n",
        "  (9, 103, 1, '4', '1, 5', '2020-01-10 11:22:59'),\n",
        "  (10, 104, 1, 'null', 'null', '2020-01-11 18:34:49'),\n",
        "  (10, 104, 1, '2, 6', '1, 4', '2020-01-11 18:34:49');\n",
        "\n",
        "-- Drop runner_orders table if it exists\n",
        "DROP TABLE IF EXISTS runner_orders;\n",
        "\n",
        "-- Create runner_orders table\n",
        "CREATE TABLE runner_orders (\n",
        "  order_id INTEGER,\n",
        "  runner_id INTEGER,\n",
        "  pickup_time VARCHAR(19),\n",
        "  distance VARCHAR(7),\n",
        "  duration VARCHAR(10),\n",
        "  cancellation VARCHAR(23)\n",
        ");\n",
        "\n",
        "-- Insert data into runner_orders table\n",
        "INSERT INTO runner_orders (order_id, runner_id, pickup_time, distance, duration, cancellation)\n",
        "VALUES\n",
        "  (1, 1, '2020-01-01 18:15:34', '20km', '32 minutes', ''),\n",
        "  (2, 1, '2020-01-01 19:10:54', '20km', '27 minutes', ''),\n",
        "  (3, 1, '2020-01-03 00:12:37', '13.4km', '20 mins', NULL),\n",
        "  (4, 2, '2020-01-04 13:53:03', '23.4', '40', NULL),\n",
        "  (5, 3, '2020-01-08 21:10:57', '10', '15', NULL),\n",
        "  (6, 3, 'null', 'null', 'null', 'Restaurant Cancellation'),\n",
        "  (7, 2, '2020-01-08 21:30:45', '25km', '25mins', 'null'),\n",
        "  (8, 2, '2020-01-10 00:15:02', '23.4 km', '15 minute', 'null'),\n",
        "  (9, 2, 'null', 'null', 'null', 'Customer Cancellation'),\n",
        "  (10, 1, '2020-01-11 18:50:20', '10km', '10minutes', 'null');\n",
        "\n",
        "-- Drop pizza_names table if it exists\n",
        "DROP TABLE IF EXISTS pizza_names;\n",
        "\n",
        "-- Create pizza_names table\n",
        "CREATE TABLE pizza_names (\n",
        "  pizza_id INTEGER,\n",
        "  pizza_name TEXT\n",
        ");\n",
        "\n",
        "-- Insert data into pizza_names table\n",
        "INSERT INTO pizza_names (pizza_id, pizza_name)\n",
        "VALUES\n",
        "  (1, 'Meatlovers'),\n",
        "  (2, 'Vegetarian');\n",
        "\n",
        "-- Drop pizza_recipes table if it exists\n",
        "DROP TABLE IF EXISTS pizza_recipes;\n",
        "\n",
        "-- Create pizza_recipes table\n",
        "CREATE TABLE pizza_recipes (\n",
        "  pizza_id INTEGER,\n",
        "  toppings TEXT\n",
        ");\n",
        "\n",
        "-- Insert data into pizza_recipes table\n",
        "INSERT INTO pizza_recipes (pizza_id, toppings)\n",
        "VALUES\n",
        "  (1, '1, 2, 3, 4, 5, 6, 8, 10'),\n",
        "  (2, '4, 6, 7, 9, 11, 12');\n",
        "\n",
        "-- Drop pizza_toppings table if it exists\n",
        "DROP TABLE IF EXISTS pizza_toppings;\n",
        "\n",
        "-- Create pizza_toppings table\n",
        "CREATE TABLE pizza_toppings (\n",
        "  topping_id INTEGER,\n",
        "  topping_name TEXT\n",
        ");\n",
        "\n",
        "-- Insert data into pizza_toppings table\n",
        "INSERT INTO pizza_toppings (topping_id, topping_name)\n",
        "VALUES\n",
        "  (1, 'Bacon'),\n",
        "  (2, 'BBQ Sauce'),\n",
        "  (3, 'Beef'),\n",
        "  (4, 'Cheese'),\n",
        "  (5, 'Chicken'),\n",
        "  (6, 'Mushrooms'),\n",
        "  (7, 'Onions'),\n",
        "  (8, 'Pepperoni'),\n",
        "  (9, 'Peppers'),\n",
        "  (10, 'Salami'),\n",
        "  (11, 'Tomatoes'),\n",
        "  (12, 'Tomato Sauce');\n"
      ],
      "metadata": {
        "colab": {
          "base_uri": "https://localhost:8080/"
        },
        "id": "ddHKY-WxJVy7",
        "outputId": "c903d282-a2ab-4e4b-a806-83fdbe72f3f1"
      },
      "execution_count": 2,
      "outputs": [
        {
          "output_type": "stream",
          "name": "stdout",
          "text": [
            " * sqlite://\n",
            "Done.\n",
            "4 rows affected.\n",
            "Done.\n",
            "Done.\n",
            "14 rows affected.\n",
            "Done.\n",
            "Done.\n",
            "10 rows affected.\n",
            "Done.\n",
            "Done.\n",
            "2 rows affected.\n",
            "Done.\n",
            "Done.\n",
            "2 rows affected.\n",
            "Done.\n",
            "Done.\n",
            "12 rows affected.\n"
          ]
        },
        {
          "output_type": "execute_result",
          "data": {
            "text/plain": [
              "[]"
            ]
          },
          "metadata": {},
          "execution_count": 2
        }
      ]
    },
    {
      "cell_type": "markdown",
      "source": [
        "# **Let's Begin**"
      ],
      "metadata": {
        "id": "2USH44FtPBX8"
      }
    },
    {
      "cell_type": "markdown",
      "source": [
        "This code creates a temporary table named customer_order based on the logic you provided, where the exclusions and extras columns are cleaned and stored as exclusions_cleaned and extras_cleaned, respectively. Let me know if you need further assistance!"
      ],
      "metadata": {
        "id": "fsCOuOYTO48L"
      }
    },
    {
      "cell_type": "code",
      "source": [
        "%%sql\n",
        "\n",
        "CREATE TEMPORARY TABLE customer_order AS\n",
        "SELECT\n",
        "  order_id,\n",
        "  customer_id,\n",
        "  pizza_id,\n",
        "  order_time,\n",
        "  CASE\n",
        "    WHEN exclusions = '' THEN NULL\n",
        "    WHEN exclusions = 'null' THEN NULL\n",
        "    ELSE exclusions\n",
        "  END AS exclusions_cleaned,\n",
        "  CASE\n",
        "    WHEN extras = '' THEN NULL\n",
        "    WHEN extras = 'null' THEN NULL\n",
        "    ELSE extras\n",
        "  END AS extras_cleaned\n",
        "FROM customer_orders;\n"
      ],
      "metadata": {
        "colab": {
          "base_uri": "https://localhost:8080/"
        },
        "id": "f2ZU22wAIdls",
        "outputId": "9327d8d3-456d-44b4-a239-5c2872d132fc"
      },
      "execution_count": 3,
      "outputs": [
        {
          "output_type": "stream",
          "name": "stdout",
          "text": [
            " * sqlite://\n",
            "Done.\n"
          ]
        },
        {
          "output_type": "execute_result",
          "data": {
            "text/plain": [
              "[]"
            ]
          },
          "metadata": {},
          "execution_count": 3
        }
      ]
    },
    {
      "cell_type": "markdown",
      "source": [
        "This SQL code creates a temporary table called runner_order based on a query result.\n",
        "\n",
        "The SELECT statement retrieves data from the runner_orders table and applies transformations to certain columns:\n",
        "\n",
        "The CASE statements are used to conditionally replace certain values in the columns:\n",
        "\n",
        "n_pickup_time column replaces 'null' values with actual NULL values.\n",
        "\n",
        "n_distance column replaces 'null' values with actual NULL values and removes 'km' from distance values.\n",
        "\n",
        "n_duration column replaces 'null' values with actual NULL values, removes 'mins', 'minute', or 'minutes' from duration values.\n",
        "\n",
        "n_cancellation column replaces 'null' values or empty strings with actual NULL values.\n",
        "\n",
        "The transformed data is then stored in the temporary table runner_order."
      ],
      "metadata": {
        "id": "CJCzjyrGPGe9"
      }
    },
    {
      "cell_type": "code",
      "source": [
        "%%sql\n",
        "CREATE TEMPORARY TABLE runner_order AS\n",
        "SELECT\n",
        "  order_id,\n",
        "  runner_id,\n",
        "  CASE\n",
        "    WHEN pickup_time = 'null' THEN NULL\n",
        "    ELSE pickup_time\n",
        "  END AS n_pickup_time,\n",
        "  CASE\n",
        "    WHEN distance = 'null' THEN NULL\n",
        "    WHEN distance LIKE '%km' THEN REPLACE(distance, 'km', '')\n",
        "    ELSE distance\n",
        "  END AS n_distance,\n",
        "  CASE\n",
        "    WHEN duration = 'null' THEN NULL\n",
        "    WHEN duration LIKE '%mins' THEN REPLACE(duration, 'mins', '')\n",
        "    WHEN duration LIKE '%minute' THEN REPLACE(duration, 'minute', '')\n",
        "    WHEN duration LIKE '%minutes' THEN REPLACE(duration, 'minutes', '')\n",
        "    ELSE duration\n",
        "  END AS n_duration,\n",
        "  CASE\n",
        "    WHEN cancellation IS NULL OR cancellation LIKE 'null' THEN NULL\n",
        "    WHEN cancellation = '' THEN NULL\n",
        "    ELSE cancellation\n",
        "  END AS n_cancellation\n",
        "FROM runner_orders;\n"
      ],
      "metadata": {
        "colab": {
          "base_uri": "https://localhost:8080/"
        },
        "id": "nlZWV_bOC_DQ",
        "outputId": "7f24643e-eb85-44d9-9bfe-72333be6f104"
      },
      "execution_count": 4,
      "outputs": [
        {
          "output_type": "stream",
          "name": "stdout",
          "text": [
            " * sqlite://\n",
            "Done.\n"
          ]
        },
        {
          "output_type": "execute_result",
          "data": {
            "text/plain": [
              "[]"
            ]
          },
          "metadata": {},
          "execution_count": 4
        }
      ]
    },
    {
      "cell_type": "code",
      "source": [
        "%%sql\n",
        "select * from runners"
      ],
      "metadata": {
        "colab": {
          "base_uri": "https://localhost:8080/",
          "height": 158
        },
        "id": "nT8Hb_V1JerV",
        "outputId": "5f0c5210-6eee-40f9-8328-4aaf475f60d9"
      },
      "execution_count": 5,
      "outputs": [
        {
          "output_type": "stream",
          "name": "stdout",
          "text": [
            " * sqlite://\n",
            "Done.\n"
          ]
        },
        {
          "output_type": "execute_result",
          "data": {
            "text/plain": [
              "[(1, '2021-01-01'), (2, '2021-01-03'), (3, '2021-01-08'), (4, '2021-01-15')]"
            ],
            "text/html": [
              "<table>\n",
              "    <thead>\n",
              "        <tr>\n",
              "            <th>runner_id</th>\n",
              "            <th>registration_date</th>\n",
              "        </tr>\n",
              "    </thead>\n",
              "    <tbody>\n",
              "        <tr>\n",
              "            <td>1</td>\n",
              "            <td>2021-01-01</td>\n",
              "        </tr>\n",
              "        <tr>\n",
              "            <td>2</td>\n",
              "            <td>2021-01-03</td>\n",
              "        </tr>\n",
              "        <tr>\n",
              "            <td>3</td>\n",
              "            <td>2021-01-08</td>\n",
              "        </tr>\n",
              "        <tr>\n",
              "            <td>4</td>\n",
              "            <td>2021-01-15</td>\n",
              "        </tr>\n",
              "    </tbody>\n",
              "</table>"
            ]
          },
          "metadata": {},
          "execution_count": 5
        }
      ]
    },
    {
      "cell_type": "code",
      "source": [
        "%%sql\n",
        "select * from customer_order"
      ],
      "metadata": {
        "colab": {
          "base_uri": "https://localhost:8080/",
          "height": 368
        },
        "id": "ido0DyjYJntL",
        "outputId": "a5e9d845-431f-45f2-e3ef-fa7001f9bfcb"
      },
      "execution_count": 6,
      "outputs": [
        {
          "output_type": "stream",
          "name": "stdout",
          "text": [
            " * sqlite://\n",
            "Done.\n"
          ]
        },
        {
          "output_type": "execute_result",
          "data": {
            "text/plain": [
              "[(1, 101, 1, '2020-01-01 18:05:02', None, None),\n",
              " (2, 101, 1, '2020-01-01 19:00:52', None, None),\n",
              " (3, 102, 1, '2020-01-02 23:51:23', None, None),\n",
              " (3, 102, 2, '2020-01-02 23:51:23', None, None),\n",
              " (4, 103, 1, '2020-01-04 13:23:46', '4', None),\n",
              " (4, 103, 1, '2020-01-04 13:23:46', '4', None),\n",
              " (4, 103, 2, '2020-01-04 13:23:46', '4', None),\n",
              " (5, 104, 1, '2020-01-08 21:00:29', None, '1'),\n",
              " (6, 101, 2, '2020-01-08 21:03:13', None, None),\n",
              " (7, 105, 2, '2020-01-08 21:20:29', None, '1'),\n",
              " (8, 102, 1, '2020-01-09 23:54:33', None, None),\n",
              " (9, 103, 1, '2020-01-10 11:22:59', '4', '1, 5'),\n",
              " (10, 104, 1, '2020-01-11 18:34:49', None, None),\n",
              " (10, 104, 1, '2020-01-11 18:34:49', '2, 6', '1, 4')]"
            ],
            "text/html": [
              "<table>\n",
              "    <thead>\n",
              "        <tr>\n",
              "            <th>order_id</th>\n",
              "            <th>customer_id</th>\n",
              "            <th>pizza_id</th>\n",
              "            <th>order_time</th>\n",
              "            <th>exclusions_cleaned</th>\n",
              "            <th>extras_cleaned</th>\n",
              "        </tr>\n",
              "    </thead>\n",
              "    <tbody>\n",
              "        <tr>\n",
              "            <td>1</td>\n",
              "            <td>101</td>\n",
              "            <td>1</td>\n",
              "            <td>2020-01-01 18:05:02</td>\n",
              "            <td>None</td>\n",
              "            <td>None</td>\n",
              "        </tr>\n",
              "        <tr>\n",
              "            <td>2</td>\n",
              "            <td>101</td>\n",
              "            <td>1</td>\n",
              "            <td>2020-01-01 19:00:52</td>\n",
              "            <td>None</td>\n",
              "            <td>None</td>\n",
              "        </tr>\n",
              "        <tr>\n",
              "            <td>3</td>\n",
              "            <td>102</td>\n",
              "            <td>1</td>\n",
              "            <td>2020-01-02 23:51:23</td>\n",
              "            <td>None</td>\n",
              "            <td>None</td>\n",
              "        </tr>\n",
              "        <tr>\n",
              "            <td>3</td>\n",
              "            <td>102</td>\n",
              "            <td>2</td>\n",
              "            <td>2020-01-02 23:51:23</td>\n",
              "            <td>None</td>\n",
              "            <td>None</td>\n",
              "        </tr>\n",
              "        <tr>\n",
              "            <td>4</td>\n",
              "            <td>103</td>\n",
              "            <td>1</td>\n",
              "            <td>2020-01-04 13:23:46</td>\n",
              "            <td>4</td>\n",
              "            <td>None</td>\n",
              "        </tr>\n",
              "        <tr>\n",
              "            <td>4</td>\n",
              "            <td>103</td>\n",
              "            <td>1</td>\n",
              "            <td>2020-01-04 13:23:46</td>\n",
              "            <td>4</td>\n",
              "            <td>None</td>\n",
              "        </tr>\n",
              "        <tr>\n",
              "            <td>4</td>\n",
              "            <td>103</td>\n",
              "            <td>2</td>\n",
              "            <td>2020-01-04 13:23:46</td>\n",
              "            <td>4</td>\n",
              "            <td>None</td>\n",
              "        </tr>\n",
              "        <tr>\n",
              "            <td>5</td>\n",
              "            <td>104</td>\n",
              "            <td>1</td>\n",
              "            <td>2020-01-08 21:00:29</td>\n",
              "            <td>None</td>\n",
              "            <td>1</td>\n",
              "        </tr>\n",
              "        <tr>\n",
              "            <td>6</td>\n",
              "            <td>101</td>\n",
              "            <td>2</td>\n",
              "            <td>2020-01-08 21:03:13</td>\n",
              "            <td>None</td>\n",
              "            <td>None</td>\n",
              "        </tr>\n",
              "        <tr>\n",
              "            <td>7</td>\n",
              "            <td>105</td>\n",
              "            <td>2</td>\n",
              "            <td>2020-01-08 21:20:29</td>\n",
              "            <td>None</td>\n",
              "            <td>1</td>\n",
              "        </tr>\n",
              "        <tr>\n",
              "            <td>8</td>\n",
              "            <td>102</td>\n",
              "            <td>1</td>\n",
              "            <td>2020-01-09 23:54:33</td>\n",
              "            <td>None</td>\n",
              "            <td>None</td>\n",
              "        </tr>\n",
              "        <tr>\n",
              "            <td>9</td>\n",
              "            <td>103</td>\n",
              "            <td>1</td>\n",
              "            <td>2020-01-10 11:22:59</td>\n",
              "            <td>4</td>\n",
              "            <td>1, 5</td>\n",
              "        </tr>\n",
              "        <tr>\n",
              "            <td>10</td>\n",
              "            <td>104</td>\n",
              "            <td>1</td>\n",
              "            <td>2020-01-11 18:34:49</td>\n",
              "            <td>None</td>\n",
              "            <td>None</td>\n",
              "        </tr>\n",
              "        <tr>\n",
              "            <td>10</td>\n",
              "            <td>104</td>\n",
              "            <td>1</td>\n",
              "            <td>2020-01-11 18:34:49</td>\n",
              "            <td>2, 6</td>\n",
              "            <td>1, 4</td>\n",
              "        </tr>\n",
              "    </tbody>\n",
              "</table>"
            ]
          },
          "metadata": {},
          "execution_count": 6
        }
      ]
    },
    {
      "cell_type": "code",
      "source": [
        "%%sql\n",
        "select * from runner_order"
      ],
      "metadata": {
        "colab": {
          "base_uri": "https://localhost:8080/",
          "height": 284
        },
        "id": "KsEedVpXJwxQ",
        "outputId": "fd25aa8d-9798-4032-b8c1-66925e2e3a7a"
      },
      "execution_count": 7,
      "outputs": [
        {
          "output_type": "stream",
          "name": "stdout",
          "text": [
            " * sqlite://\n",
            "Done.\n"
          ]
        },
        {
          "output_type": "execute_result",
          "data": {
            "text/plain": [
              "[(1, 1, '2020-01-01 18:15:34', '20', '32 ', None),\n",
              " (2, 1, '2020-01-01 19:10:54', '20', '27 ', None),\n",
              " (3, 1, '2020-01-03 00:12:37', '13.4', '20 ', None),\n",
              " (4, 2, '2020-01-04 13:53:03', '23.4', '40', None),\n",
              " (5, 3, '2020-01-08 21:10:57', '10', '15', None),\n",
              " (6, 3, None, None, None, 'Restaurant Cancellation'),\n",
              " (7, 2, '2020-01-08 21:30:45', '25', '25', None),\n",
              " (8, 2, '2020-01-10 00:15:02', '23.4 ', '15 ', None),\n",
              " (9, 2, None, None, None, 'Customer Cancellation'),\n",
              " (10, 1, '2020-01-11 18:50:20', '10', '10', None)]"
            ],
            "text/html": [
              "<table>\n",
              "    <thead>\n",
              "        <tr>\n",
              "            <th>order_id</th>\n",
              "            <th>runner_id</th>\n",
              "            <th>n_pickup_time</th>\n",
              "            <th>n_distance</th>\n",
              "            <th>n_duration</th>\n",
              "            <th>n_cancellation</th>\n",
              "        </tr>\n",
              "    </thead>\n",
              "    <tbody>\n",
              "        <tr>\n",
              "            <td>1</td>\n",
              "            <td>1</td>\n",
              "            <td>2020-01-01 18:15:34</td>\n",
              "            <td>20</td>\n",
              "            <td>32 </td>\n",
              "            <td>None</td>\n",
              "        </tr>\n",
              "        <tr>\n",
              "            <td>2</td>\n",
              "            <td>1</td>\n",
              "            <td>2020-01-01 19:10:54</td>\n",
              "            <td>20</td>\n",
              "            <td>27 </td>\n",
              "            <td>None</td>\n",
              "        </tr>\n",
              "        <tr>\n",
              "            <td>3</td>\n",
              "            <td>1</td>\n",
              "            <td>2020-01-03 00:12:37</td>\n",
              "            <td>13.4</td>\n",
              "            <td>20 </td>\n",
              "            <td>None</td>\n",
              "        </tr>\n",
              "        <tr>\n",
              "            <td>4</td>\n",
              "            <td>2</td>\n",
              "            <td>2020-01-04 13:53:03</td>\n",
              "            <td>23.4</td>\n",
              "            <td>40</td>\n",
              "            <td>None</td>\n",
              "        </tr>\n",
              "        <tr>\n",
              "            <td>5</td>\n",
              "            <td>3</td>\n",
              "            <td>2020-01-08 21:10:57</td>\n",
              "            <td>10</td>\n",
              "            <td>15</td>\n",
              "            <td>None</td>\n",
              "        </tr>\n",
              "        <tr>\n",
              "            <td>6</td>\n",
              "            <td>3</td>\n",
              "            <td>None</td>\n",
              "            <td>None</td>\n",
              "            <td>None</td>\n",
              "            <td>Restaurant Cancellation</td>\n",
              "        </tr>\n",
              "        <tr>\n",
              "            <td>7</td>\n",
              "            <td>2</td>\n",
              "            <td>2020-01-08 21:30:45</td>\n",
              "            <td>25</td>\n",
              "            <td>25</td>\n",
              "            <td>None</td>\n",
              "        </tr>\n",
              "        <tr>\n",
              "            <td>8</td>\n",
              "            <td>2</td>\n",
              "            <td>2020-01-10 00:15:02</td>\n",
              "            <td>23.4 </td>\n",
              "            <td>15 </td>\n",
              "            <td>None</td>\n",
              "        </tr>\n",
              "        <tr>\n",
              "            <td>9</td>\n",
              "            <td>2</td>\n",
              "            <td>None</td>\n",
              "            <td>None</td>\n",
              "            <td>None</td>\n",
              "            <td>Customer Cancellation</td>\n",
              "        </tr>\n",
              "        <tr>\n",
              "            <td>10</td>\n",
              "            <td>1</td>\n",
              "            <td>2020-01-11 18:50:20</td>\n",
              "            <td>10</td>\n",
              "            <td>10</td>\n",
              "            <td>None</td>\n",
              "        </tr>\n",
              "    </tbody>\n",
              "</table>"
            ]
          },
          "metadata": {},
          "execution_count": 7
        }
      ]
    },
    {
      "cell_type": "code",
      "source": [
        "%%sql\n",
        "select * from pizza_names"
      ],
      "metadata": {
        "colab": {
          "base_uri": "https://localhost:8080/",
          "height": 116
        },
        "id": "bd-c89SLJ0Aj",
        "outputId": "9dd0cc2e-5a6c-46c5-cbe6-393fc9c7b7b3"
      },
      "execution_count": 8,
      "outputs": [
        {
          "output_type": "stream",
          "name": "stdout",
          "text": [
            " * sqlite://\n",
            "Done.\n"
          ]
        },
        {
          "output_type": "execute_result",
          "data": {
            "text/plain": [
              "[(1, 'Meatlovers'), (2, 'Vegetarian')]"
            ],
            "text/html": [
              "<table>\n",
              "    <thead>\n",
              "        <tr>\n",
              "            <th>pizza_id</th>\n",
              "            <th>pizza_name</th>\n",
              "        </tr>\n",
              "    </thead>\n",
              "    <tbody>\n",
              "        <tr>\n",
              "            <td>1</td>\n",
              "            <td>Meatlovers</td>\n",
              "        </tr>\n",
              "        <tr>\n",
              "            <td>2</td>\n",
              "            <td>Vegetarian</td>\n",
              "        </tr>\n",
              "    </tbody>\n",
              "</table>"
            ]
          },
          "metadata": {},
          "execution_count": 8
        }
      ]
    },
    {
      "cell_type": "code",
      "source": [
        "%%sql\n",
        "select * from pizza_recipes"
      ],
      "metadata": {
        "colab": {
          "base_uri": "https://localhost:8080/",
          "height": 116
        },
        "id": "aK_qFSLVJ3LM",
        "outputId": "b1fac162-56e2-42f3-c471-4ac889d2235d"
      },
      "execution_count": 9,
      "outputs": [
        {
          "output_type": "stream",
          "name": "stdout",
          "text": [
            " * sqlite://\n",
            "Done.\n"
          ]
        },
        {
          "output_type": "execute_result",
          "data": {
            "text/plain": [
              "[(1, '1, 2, 3, 4, 5, 6, 8, 10'), (2, '4, 6, 7, 9, 11, 12')]"
            ],
            "text/html": [
              "<table>\n",
              "    <thead>\n",
              "        <tr>\n",
              "            <th>pizza_id</th>\n",
              "            <th>toppings</th>\n",
              "        </tr>\n",
              "    </thead>\n",
              "    <tbody>\n",
              "        <tr>\n",
              "            <td>1</td>\n",
              "            <td>1, 2, 3, 4, 5, 6, 8, 10</td>\n",
              "        </tr>\n",
              "        <tr>\n",
              "            <td>2</td>\n",
              "            <td>4, 6, 7, 9, 11, 12</td>\n",
              "        </tr>\n",
              "    </tbody>\n",
              "</table>"
            ]
          },
          "metadata": {},
          "execution_count": 9
        }
      ]
    },
    {
      "cell_type": "code",
      "source": [
        "%%sql\n",
        "select * from pizza_toppings"
      ],
      "metadata": {
        "colab": {
          "base_uri": "https://localhost:8080/",
          "height": 326
        },
        "id": "s1ty64HJJ7Hc",
        "outputId": "7f8835bf-defd-49be-d4cd-76f1c6ff8b4d"
      },
      "execution_count": 10,
      "outputs": [
        {
          "output_type": "stream",
          "name": "stdout",
          "text": [
            " * sqlite://\n",
            "Done.\n"
          ]
        },
        {
          "output_type": "execute_result",
          "data": {
            "text/plain": [
              "[(1, 'Bacon'),\n",
              " (2, 'BBQ Sauce'),\n",
              " (3, 'Beef'),\n",
              " (4, 'Cheese'),\n",
              " (5, 'Chicken'),\n",
              " (6, 'Mushrooms'),\n",
              " (7, 'Onions'),\n",
              " (8, 'Pepperoni'),\n",
              " (9, 'Peppers'),\n",
              " (10, 'Salami'),\n",
              " (11, 'Tomatoes'),\n",
              " (12, 'Tomato Sauce')]"
            ],
            "text/html": [
              "<table>\n",
              "    <thead>\n",
              "        <tr>\n",
              "            <th>topping_id</th>\n",
              "            <th>topping_name</th>\n",
              "        </tr>\n",
              "    </thead>\n",
              "    <tbody>\n",
              "        <tr>\n",
              "            <td>1</td>\n",
              "            <td>Bacon</td>\n",
              "        </tr>\n",
              "        <tr>\n",
              "            <td>2</td>\n",
              "            <td>BBQ Sauce</td>\n",
              "        </tr>\n",
              "        <tr>\n",
              "            <td>3</td>\n",
              "            <td>Beef</td>\n",
              "        </tr>\n",
              "        <tr>\n",
              "            <td>4</td>\n",
              "            <td>Cheese</td>\n",
              "        </tr>\n",
              "        <tr>\n",
              "            <td>5</td>\n",
              "            <td>Chicken</td>\n",
              "        </tr>\n",
              "        <tr>\n",
              "            <td>6</td>\n",
              "            <td>Mushrooms</td>\n",
              "        </tr>\n",
              "        <tr>\n",
              "            <td>7</td>\n",
              "            <td>Onions</td>\n",
              "        </tr>\n",
              "        <tr>\n",
              "            <td>8</td>\n",
              "            <td>Pepperoni</td>\n",
              "        </tr>\n",
              "        <tr>\n",
              "            <td>9</td>\n",
              "            <td>Peppers</td>\n",
              "        </tr>\n",
              "        <tr>\n",
              "            <td>10</td>\n",
              "            <td>Salami</td>\n",
              "        </tr>\n",
              "        <tr>\n",
              "            <td>11</td>\n",
              "            <td>Tomatoes</td>\n",
              "        </tr>\n",
              "        <tr>\n",
              "            <td>12</td>\n",
              "            <td>Tomato Sauce</td>\n",
              "        </tr>\n",
              "    </tbody>\n",
              "</table>"
            ]
          },
          "metadata": {},
          "execution_count": 10
        }
      ]
    },
    {
      "cell_type": "markdown",
      "source": [
        "# Case Study Questions\n",
        "\n",
        "This case study has LOTS of questions - they are broken up by area of focus including:\n",
        "\n",
        "- **Pizza Metrics**\n",
        "- **Runner and Customer Experience**\n",
        "- **Ingredient Optimisation**\n",
        "- **Pricing and Ratings**\n",
        "- **Bonus DML Challenges** (DML = Data Manipulation Language)\n",
        "\n",
        "Each of the following case study questions can be answered using a single SQL statement.\n",
        "\n",
        "Before you start writing your SQL queries however - you might want to investigate the data. You may want to do something with some of those null values and data types in the `customer_orders` and `runner_orders` tables!\n",
        "\n",
        "## A. Pizza Metrics\n",
        "\n",
        "1. How many pizzas were ordered?\n",
        "2. How many unique customer orders were made?\n",
        "3. How many successful orders were delivered by each runner?\n",
        "4. How many of each type of pizza was delivered?\n",
        "5. How many Vegetarian and Meatlovers were ordered by each customer?\n",
        "6. What was the maximum number of pizzas delivered in a single order?\n",
        "7. For each customer, how many delivered pizzas had at least 1 change and how many had no changes?\n",
        "8. How many pizzas were delivered that had both exclusions and extras?\n",
        "9. What was the total volume of pizzas ordered for each hour of the day?\n",
        "10. What was the volume of orders for each day of the week?\n",
        "\n",
        "## B. Runner and Customer Experience\n",
        "\n",
        "1. How many runners signed up for each 1 week period? (i.e. week starts 2021-01-01)\n",
        "2. What was the average time in minutes it took for each runner to arrive at the Pizza Runner HQ to pickup the order?\n",
        "3. Is there any relationship between the number of pizzas and how long the order takes to prepare?\n",
        "4. What was the average distance travelled for each customer?\n",
        "5. What was the difference between the longest and shortest delivery times for all orders?\n",
        "6. What was the average speed for each runner for each delivery and do you notice any trend for these values?\n",
        "7. What is the successful delivery percentage for each runner?\n",
        "\n",
        "## C. Ingredient Optimisation\n",
        "\n",
        "1. What are the standard ingredients for each pizza?\n",
        "2. What was the most commonly added extra?\n",
        "3. What was the most common exclusion?\n",
        "4. Generate an order item for each record in the `customers_orders` table in the format of one of the following:\n",
        "    - Meat Lovers\n",
        "    - Meat Lovers - Exclude Beef\n",
        "    - Meat Lovers - Extra Bacon\n",
        "    - Meat Lovers - Exclude Cheese, Bacon - Extra Mushroom, Peppers\n",
        "5. Generate an alphabetically ordered comma separated ingredient list for each pizza order from the `customer_orders` table and add a `2x` in front of any relevant ingredients.\n",
        "    - For example: \"Meat Lovers: 2xBacon, Beef, ... , Salami\"\n",
        "6. What is the total quantity of each ingredient used in all delivered pizzas sorted by most frequent first?\n",
        "\n",
        "## D. Pricing and Ratings\n",
        "\n",
        "1. If a Meat Lovers pizza costs 12 and Vegetarian costs 10 and there were no charges for changes - how much money has Pizza Runner made so far if there are no delivery fees?\n",
        "2. What if there was an additional 1 charge for any pizza extras?\n",
        "    - Add cheese is $1 extra\n",
        "3. The Pizza Runner team now wants to add an additional ratings system that allows customers to rate their runner, how would you design an additional table for this new dataset - generate a schema for this new table and insert your own data for ratings for each successful customer order between 1 to 5.\n",
        "4. Using your newly generated table - can you join all of the information together to form a table which has the following information for successful deliveries?\n",
        "    - customer_id\n",
        "    - order_id\n",
        "    - runner_id\n",
        "    - rating\n",
        "    - order_time\n",
        "    - pickup_time\n",
        "    - Time between order and pickup\n",
        "    - Delivery duration\n",
        "    - Average speed\n",
        "    - Total number of pizzas\n",
        "5. If a Meat Lovers pizza was 12 and Vegetarian 10 fixed prices with no cost for extras and each runner is paid $0.30 per kilometre traveled - how much money does Pizza Runner have left over after these deliveries?\n"
      ],
      "metadata": {
        "id": "3qv9k8p4KD1n"
      }
    },
    {
      "cell_type": "markdown",
      "source": [
        "# **A. Pizza Metrics**"
      ],
      "metadata": {
        "id": "osJrd7kLsQYa"
      }
    },
    {
      "cell_type": "code",
      "source": [
        "%%sql\n",
        "-- 1. How many pizzas were ordered?\n",
        "select count(*) as pizza_order_count\n",
        "from customer_orders;"
      ],
      "metadata": {
        "id": "WsG40nXqJ_hb",
        "colab": {
          "base_uri": "https://localhost:8080/",
          "height": 95
        },
        "outputId": "8bc3a64a-3653-46ac-fd0e-ed79b64214cd"
      },
      "execution_count": 11,
      "outputs": [
        {
          "output_type": "stream",
          "name": "stdout",
          "text": [
            " * sqlite://\n",
            "Done.\n"
          ]
        },
        {
          "output_type": "execute_result",
          "data": {
            "text/plain": [
              "[(14,)]"
            ],
            "text/html": [
              "<table>\n",
              "    <thead>\n",
              "        <tr>\n",
              "            <th>pizza_order_count</th>\n",
              "        </tr>\n",
              "    </thead>\n",
              "    <tbody>\n",
              "        <tr>\n",
              "            <td>14</td>\n",
              "        </tr>\n",
              "    </tbody>\n",
              "</table>"
            ]
          },
          "metadata": {},
          "execution_count": 11
        }
      ]
    },
    {
      "cell_type": "code",
      "source": [
        "%%sql\n",
        "-- 2. How many unique customer orders were made?\n",
        "select count(distinct order_id) as unique_order_count\n",
        "from customer_orders;"
      ],
      "metadata": {
        "id": "aP2KLujFB2fL",
        "colab": {
          "base_uri": "https://localhost:8080/",
          "height": 95
        },
        "outputId": "d8f70b4f-4dc0-4a5e-fb0e-620530af0a14"
      },
      "execution_count": 12,
      "outputs": [
        {
          "output_type": "stream",
          "name": "stdout",
          "text": [
            " * sqlite://\n",
            "Done.\n"
          ]
        },
        {
          "output_type": "execute_result",
          "data": {
            "text/plain": [
              "[(10,)]"
            ],
            "text/html": [
              "<table>\n",
              "    <thead>\n",
              "        <tr>\n",
              "            <th>unique_order_count</th>\n",
              "        </tr>\n",
              "    </thead>\n",
              "    <tbody>\n",
              "        <tr>\n",
              "            <td>10</td>\n",
              "        </tr>\n",
              "    </tbody>\n",
              "</table>"
            ]
          },
          "metadata": {},
          "execution_count": 12
        }
      ]
    },
    {
      "cell_type": "code",
      "source": [
        "%%sql\n",
        "-- 3. How many successful orders were delivered by each runner?\n",
        "select runner_id, count(order_id) as successful_orders\n",
        "from runner_orders\n",
        "where duration is not null\n",
        "group by runner_id;"
      ],
      "metadata": {
        "id": "G54rAtPqB2cD",
        "colab": {
          "base_uri": "https://localhost:8080/",
          "height": 137
        },
        "outputId": "d93b8234-8d65-4616-ed2b-be33d84f37a5"
      },
      "execution_count": 13,
      "outputs": [
        {
          "output_type": "stream",
          "name": "stdout",
          "text": [
            " * sqlite://\n",
            "Done.\n"
          ]
        },
        {
          "output_type": "execute_result",
          "data": {
            "text/plain": [
              "[(1, 4), (2, 4), (3, 2)]"
            ],
            "text/html": [
              "<table>\n",
              "    <thead>\n",
              "        <tr>\n",
              "            <th>runner_id</th>\n",
              "            <th>successful_orders</th>\n",
              "        </tr>\n",
              "    </thead>\n",
              "    <tbody>\n",
              "        <tr>\n",
              "            <td>1</td>\n",
              "            <td>4</td>\n",
              "        </tr>\n",
              "        <tr>\n",
              "            <td>2</td>\n",
              "            <td>4</td>\n",
              "        </tr>\n",
              "        <tr>\n",
              "            <td>3</td>\n",
              "            <td>2</td>\n",
              "        </tr>\n",
              "    </tbody>\n",
              "</table>"
            ]
          },
          "metadata": {},
          "execution_count": 13
        }
      ]
    },
    {
      "cell_type": "code",
      "source": [
        "%%sql\n",
        "-- 4. How many of each type of pizza was delivered?\n",
        "select p.pizza_name, count(c.pizza_id) as pizza_count\n",
        "from customer_orders c\n",
        "join pizza_names p on c.pizza_id = p.pizza_id\n",
        "where c.order_id in (\n",
        "  select order_id\n",
        "  from runner_order\n",
        "  where n_cancellation is null\n",
        ")\n",
        "group by p.pizza_name;"
      ],
      "metadata": {
        "id": "E8p-2mzpB2YC",
        "colab": {
          "base_uri": "https://localhost:8080/",
          "height": 116
        },
        "outputId": "52b93e0f-4f9b-44f9-d8dc-297254c6cc49"
      },
      "execution_count": 14,
      "outputs": [
        {
          "output_type": "stream",
          "name": "stdout",
          "text": [
            " * sqlite://\n",
            "Done.\n"
          ]
        },
        {
          "output_type": "execute_result",
          "data": {
            "text/plain": [
              "[('Meatlovers', 9), ('Vegetarian', 3)]"
            ],
            "text/html": [
              "<table>\n",
              "    <thead>\n",
              "        <tr>\n",
              "            <th>pizza_name</th>\n",
              "            <th>pizza_count</th>\n",
              "        </tr>\n",
              "    </thead>\n",
              "    <tbody>\n",
              "        <tr>\n",
              "            <td>Meatlovers</td>\n",
              "            <td>9</td>\n",
              "        </tr>\n",
              "        <tr>\n",
              "            <td>Vegetarian</td>\n",
              "            <td>3</td>\n",
              "        </tr>\n",
              "    </tbody>\n",
              "</table>"
            ]
          },
          "metadata": {},
          "execution_count": 14
        }
      ]
    },
    {
      "cell_type": "code",
      "source": [
        "%%sql\n",
        "-- 5. How many Vegetarian and Meatlovers were ordered by each customer?\n",
        "select customer_id, pizza_name, count(pizza_name) as order_count\n",
        "from customer_orders c\n",
        "join pizza_names p on c.pizza_id = p.pizza_id\n",
        "group by customer_id, pizza_name\n",
        "order by customer_id;"
      ],
      "metadata": {
        "colab": {
          "base_uri": "https://localhost:8080/",
          "height": 242
        },
        "id": "aaOiQaTGw8Wq",
        "outputId": "1edf4d17-cb7b-4473-ad43-ddff1d09c770"
      },
      "execution_count": 15,
      "outputs": [
        {
          "output_type": "stream",
          "name": "stdout",
          "text": [
            " * sqlite://\n",
            "Done.\n"
          ]
        },
        {
          "output_type": "execute_result",
          "data": {
            "text/plain": [
              "[(101, 'Meatlovers', 2),\n",
              " (101, 'Vegetarian', 1),\n",
              " (102, 'Meatlovers', 2),\n",
              " (102, 'Vegetarian', 1),\n",
              " (103, 'Meatlovers', 3),\n",
              " (103, 'Vegetarian', 1),\n",
              " (104, 'Meatlovers', 3),\n",
              " (105, 'Vegetarian', 1)]"
            ],
            "text/html": [
              "<table>\n",
              "    <thead>\n",
              "        <tr>\n",
              "            <th>customer_id</th>\n",
              "            <th>pizza_name</th>\n",
              "            <th>order_count</th>\n",
              "        </tr>\n",
              "    </thead>\n",
              "    <tbody>\n",
              "        <tr>\n",
              "            <td>101</td>\n",
              "            <td>Meatlovers</td>\n",
              "            <td>2</td>\n",
              "        </tr>\n",
              "        <tr>\n",
              "            <td>101</td>\n",
              "            <td>Vegetarian</td>\n",
              "            <td>1</td>\n",
              "        </tr>\n",
              "        <tr>\n",
              "            <td>102</td>\n",
              "            <td>Meatlovers</td>\n",
              "            <td>2</td>\n",
              "        </tr>\n",
              "        <tr>\n",
              "            <td>102</td>\n",
              "            <td>Vegetarian</td>\n",
              "            <td>1</td>\n",
              "        </tr>\n",
              "        <tr>\n",
              "            <td>103</td>\n",
              "            <td>Meatlovers</td>\n",
              "            <td>3</td>\n",
              "        </tr>\n",
              "        <tr>\n",
              "            <td>103</td>\n",
              "            <td>Vegetarian</td>\n",
              "            <td>1</td>\n",
              "        </tr>\n",
              "        <tr>\n",
              "            <td>104</td>\n",
              "            <td>Meatlovers</td>\n",
              "            <td>3</td>\n",
              "        </tr>\n",
              "        <tr>\n",
              "            <td>105</td>\n",
              "            <td>Vegetarian</td>\n",
              "            <td>1</td>\n",
              "        </tr>\n",
              "    </tbody>\n",
              "</table>"
            ]
          },
          "metadata": {},
          "execution_count": 15
        }
      ]
    },
    {
      "cell_type": "code",
      "source": [
        "%%sql\n",
        "-- 6. What was the maximum number of pizzas delivered in a single order?\n",
        "select order_id, count(pizza_id) as pizza_count\n",
        "from customer_order\n",
        "group by order_id\n",
        "order by pizza_count desc;"
      ],
      "metadata": {
        "id": "lEXcNyzWB2SK",
        "colab": {
          "base_uri": "https://localhost:8080/",
          "height": 284
        },
        "outputId": "8f534fff-fe89-4846-8cbe-2766137a9c0f"
      },
      "execution_count": 16,
      "outputs": [
        {
          "output_type": "stream",
          "name": "stdout",
          "text": [
            " * sqlite://\n",
            "Done.\n"
          ]
        },
        {
          "output_type": "execute_result",
          "data": {
            "text/plain": [
              "[(4, 3),\n",
              " (10, 2),\n",
              " (3, 2),\n",
              " (9, 1),\n",
              " (8, 1),\n",
              " (7, 1),\n",
              " (6, 1),\n",
              " (5, 1),\n",
              " (2, 1),\n",
              " (1, 1)]"
            ],
            "text/html": [
              "<table>\n",
              "    <thead>\n",
              "        <tr>\n",
              "            <th>order_id</th>\n",
              "            <th>pizza_count</th>\n",
              "        </tr>\n",
              "    </thead>\n",
              "    <tbody>\n",
              "        <tr>\n",
              "            <td>4</td>\n",
              "            <td>3</td>\n",
              "        </tr>\n",
              "        <tr>\n",
              "            <td>10</td>\n",
              "            <td>2</td>\n",
              "        </tr>\n",
              "        <tr>\n",
              "            <td>3</td>\n",
              "            <td>2</td>\n",
              "        </tr>\n",
              "        <tr>\n",
              "            <td>9</td>\n",
              "            <td>1</td>\n",
              "        </tr>\n",
              "        <tr>\n",
              "            <td>8</td>\n",
              "            <td>1</td>\n",
              "        </tr>\n",
              "        <tr>\n",
              "            <td>7</td>\n",
              "            <td>1</td>\n",
              "        </tr>\n",
              "        <tr>\n",
              "            <td>6</td>\n",
              "            <td>1</td>\n",
              "        </tr>\n",
              "        <tr>\n",
              "            <td>5</td>\n",
              "            <td>1</td>\n",
              "        </tr>\n",
              "        <tr>\n",
              "            <td>2</td>\n",
              "            <td>1</td>\n",
              "        </tr>\n",
              "        <tr>\n",
              "            <td>1</td>\n",
              "            <td>1</td>\n",
              "        </tr>\n",
              "    </tbody>\n",
              "</table>"
            ]
          },
          "metadata": {},
          "execution_count": 16
        }
      ]
    },
    {
      "cell_type": "code",
      "source": [
        "%%sql\n",
        "-- 7. For each customer, how many delivered pizzas had at least 1 change and how many had no changes?\n",
        "\n",
        "WITH STATUS_TBL AS (\n",
        "    SELECT\n",
        "        order_id,\n",
        "        customer_id,\n",
        "        pizza_id,\n",
        "        exclusions_cleaned,\n",
        "        extras_cleaned,\n",
        "        CASE\n",
        "            WHEN exclusions_cleaned <> '' OR extras_cleaned <> '' THEN 'Change'\n",
        "            ELSE 'No_Change'\n",
        "        END AS Status\n",
        "    FROM\n",
        "        customer_order\n",
        ")\n",
        "SELECT\n",
        "    customer_id,\n",
        "    COALESCE(s.Status, 'No_Change') AS STATUS,\n",
        "    COUNT(s.Status) AS count\n",
        "FROM\n",
        "    runner_order AS r\n",
        "LEFT JOIN\n",
        "    STATUS_TBL AS s ON s.order_id = r.order_id\n",
        "WHERE\n",
        "    r.n_distance != 0\n",
        "GROUP BY\n",
        "    customer_id,\n",
        "    STATUS\n",
        "ORDER BY\n",
        "    customer_id;\n"
      ],
      "metadata": {
        "id": "x3hDfWxEB2PK",
        "colab": {
          "base_uri": "https://localhost:8080/",
          "height": 200
        },
        "outputId": "4159bfd8-2049-4604-a89c-fecf07a7cf47"
      },
      "execution_count": 17,
      "outputs": [
        {
          "output_type": "stream",
          "name": "stdout",
          "text": [
            " * sqlite://\n",
            "Done.\n"
          ]
        },
        {
          "output_type": "execute_result",
          "data": {
            "text/plain": [
              "[(101, 'No_Change', 2),\n",
              " (102, 'No_Change', 3),\n",
              " (103, 'Change', 3),\n",
              " (104, 'Change', 2),\n",
              " (104, 'No_Change', 1),\n",
              " (105, 'Change', 1)]"
            ],
            "text/html": [
              "<table>\n",
              "    <thead>\n",
              "        <tr>\n",
              "            <th>customer_id</th>\n",
              "            <th>STATUS</th>\n",
              "            <th>count</th>\n",
              "        </tr>\n",
              "    </thead>\n",
              "    <tbody>\n",
              "        <tr>\n",
              "            <td>101</td>\n",
              "            <td>No_Change</td>\n",
              "            <td>2</td>\n",
              "        </tr>\n",
              "        <tr>\n",
              "            <td>102</td>\n",
              "            <td>No_Change</td>\n",
              "            <td>3</td>\n",
              "        </tr>\n",
              "        <tr>\n",
              "            <td>103</td>\n",
              "            <td>Change</td>\n",
              "            <td>3</td>\n",
              "        </tr>\n",
              "        <tr>\n",
              "            <td>104</td>\n",
              "            <td>Change</td>\n",
              "            <td>2</td>\n",
              "        </tr>\n",
              "        <tr>\n",
              "            <td>104</td>\n",
              "            <td>No_Change</td>\n",
              "            <td>1</td>\n",
              "        </tr>\n",
              "        <tr>\n",
              "            <td>105</td>\n",
              "            <td>Change</td>\n",
              "            <td>1</td>\n",
              "        </tr>\n",
              "    </tbody>\n",
              "</table>"
            ]
          },
          "metadata": {},
          "execution_count": 17
        }
      ]
    },
    {
      "cell_type": "code",
      "source": [
        "%%sql\n",
        "-- 8. How many pizzas were delivered that had both exclusions and extras?\n",
        "select count(*) as pizza_count\n",
        "from customer_order\n",
        "where exclusions_cleaned is not null and extras_cleaned is not null;"
      ],
      "metadata": {
        "id": "Co_aYM4ZB2MC",
        "colab": {
          "base_uri": "https://localhost:8080/",
          "height": 95
        },
        "outputId": "8a1d9377-3a05-4691-d49d-b14c8a6cb49c"
      },
      "execution_count": 18,
      "outputs": [
        {
          "output_type": "stream",
          "name": "stdout",
          "text": [
            " * sqlite://\n",
            "Done.\n"
          ]
        },
        {
          "output_type": "execute_result",
          "data": {
            "text/plain": [
              "[(2,)]"
            ],
            "text/html": [
              "<table>\n",
              "    <thead>\n",
              "        <tr>\n",
              "            <th>pizza_count</th>\n",
              "        </tr>\n",
              "    </thead>\n",
              "    <tbody>\n",
              "        <tr>\n",
              "            <td>2</td>\n",
              "        </tr>\n",
              "    </tbody>\n",
              "</table>"
            ]
          },
          "metadata": {},
          "execution_count": 18
        }
      ]
    },
    {
      "cell_type": "code",
      "source": [
        "%%sql\n",
        "-- 9. What was the total volume of pizzas ordered for each hour of the day?\n",
        "\n",
        "SELECT\n",
        "  strftime('%H', order_time) AS hour_of_pickup,\n",
        "  COUNT(order_id) AS count_pizza\n",
        "FROM\n",
        "  customer_order\n",
        "WHERE\n",
        "  strftime('%H', order_time) IS NOT NULL\n",
        "GROUP BY\n",
        "  strftime('%H', order_time);\n"
      ],
      "metadata": {
        "id": "XtAOgoFVB2G7",
        "colab": {
          "base_uri": "https://localhost:8080/",
          "height": 200
        },
        "outputId": "93f93cd8-06a1-4064-ef9c-d96664a3c77a"
      },
      "execution_count": 19,
      "outputs": [
        {
          "output_type": "stream",
          "name": "stdout",
          "text": [
            " * sqlite://\n",
            "Done.\n"
          ]
        },
        {
          "output_type": "execute_result",
          "data": {
            "text/plain": [
              "[('11', 1), ('13', 3), ('18', 3), ('19', 1), ('21', 3), ('23', 3)]"
            ],
            "text/html": [
              "<table>\n",
              "    <thead>\n",
              "        <tr>\n",
              "            <th>hour_of_pickup</th>\n",
              "            <th>count_pizza</th>\n",
              "        </tr>\n",
              "    </thead>\n",
              "    <tbody>\n",
              "        <tr>\n",
              "            <td>11</td>\n",
              "            <td>1</td>\n",
              "        </tr>\n",
              "        <tr>\n",
              "            <td>13</td>\n",
              "            <td>3</td>\n",
              "        </tr>\n",
              "        <tr>\n",
              "            <td>18</td>\n",
              "            <td>3</td>\n",
              "        </tr>\n",
              "        <tr>\n",
              "            <td>19</td>\n",
              "            <td>1</td>\n",
              "        </tr>\n",
              "        <tr>\n",
              "            <td>21</td>\n",
              "            <td>3</td>\n",
              "        </tr>\n",
              "        <tr>\n",
              "            <td>23</td>\n",
              "            <td>3</td>\n",
              "        </tr>\n",
              "    </tbody>\n",
              "</table>"
            ]
          },
          "metadata": {},
          "execution_count": 19
        }
      ]
    },
    {
      "cell_type": "code",
      "source": [
        "%%sql\n",
        "-- 10. What was the volume of orders for each day of the week?\n",
        "select strftime('%w', order_time) as day_of_week, count(order_id) as order_count\n",
        "from customer_order\n",
        "group by day_of_week;"
      ],
      "metadata": {
        "id": "sYsA3nbjB4bi",
        "colab": {
          "base_uri": "https://localhost:8080/",
          "height": 158
        },
        "outputId": "e4b520de-bf46-4d6d-e7ec-88a63693ed5f"
      },
      "execution_count": 20,
      "outputs": [
        {
          "output_type": "stream",
          "name": "stdout",
          "text": [
            " * sqlite://\n",
            "Done.\n"
          ]
        },
        {
          "output_type": "execute_result",
          "data": {
            "text/plain": [
              "[('3', 5), ('4', 3), ('5', 1), ('6', 5)]"
            ],
            "text/html": [
              "<table>\n",
              "    <thead>\n",
              "        <tr>\n",
              "            <th>day_of_week</th>\n",
              "            <th>order_count</th>\n",
              "        </tr>\n",
              "    </thead>\n",
              "    <tbody>\n",
              "        <tr>\n",
              "            <td>3</td>\n",
              "            <td>5</td>\n",
              "        </tr>\n",
              "        <tr>\n",
              "            <td>4</td>\n",
              "            <td>3</td>\n",
              "        </tr>\n",
              "        <tr>\n",
              "            <td>5</td>\n",
              "            <td>1</td>\n",
              "        </tr>\n",
              "        <tr>\n",
              "            <td>6</td>\n",
              "            <td>5</td>\n",
              "        </tr>\n",
              "    </tbody>\n",
              "</table>"
            ]
          },
          "metadata": {},
          "execution_count": 20
        }
      ]
    },
    {
      "cell_type": "markdown",
      "source": [
        "# **B. Runner and Customer Experience**"
      ],
      "metadata": {
        "id": "1zWShUvnposT"
      }
    },
    {
      "cell_type": "code",
      "source": [
        "%%sql\n",
        "-- 1. How many runners signed up for each 1 week period? (i.e. week starts 2021-01-01)\n",
        "SELECT\n",
        "  strftime('%Y-%W', registration_date) AS week_start,\n",
        "  COUNT(runner_id) AS runners_signed_up\n",
        "FROM\n",
        "  runners\n",
        "GROUP BY\n",
        "  strftime('%Y-%W', registration_date)\n",
        "ORDER BY\n",
        "  week_start;\n"
      ],
      "metadata": {
        "colab": {
          "base_uri": "https://localhost:8080/",
          "height": 137
        },
        "id": "dSeippEMpoRc",
        "outputId": "9fdb52a5-d010-4695-892e-1d89a7242f63"
      },
      "execution_count": 21,
      "outputs": [
        {
          "output_type": "stream",
          "name": "stdout",
          "text": [
            " * sqlite://\n",
            "Done.\n"
          ]
        },
        {
          "output_type": "execute_result",
          "data": {
            "text/plain": [
              "[('2021-00', 2), ('2021-01', 1), ('2021-02', 1)]"
            ],
            "text/html": [
              "<table>\n",
              "    <thead>\n",
              "        <tr>\n",
              "            <th>week_start</th>\n",
              "            <th>runners_signed_up</th>\n",
              "        </tr>\n",
              "    </thead>\n",
              "    <tbody>\n",
              "        <tr>\n",
              "            <td>2021-00</td>\n",
              "            <td>2</td>\n",
              "        </tr>\n",
              "        <tr>\n",
              "            <td>2021-01</td>\n",
              "            <td>1</td>\n",
              "        </tr>\n",
              "        <tr>\n",
              "            <td>2021-02</td>\n",
              "            <td>1</td>\n",
              "        </tr>\n",
              "    </tbody>\n",
              "</table>"
            ]
          },
          "metadata": {},
          "execution_count": 21
        }
      ]
    },
    {
      "cell_type": "code",
      "source": [
        "%%sql\n",
        "-- 2. What was the average time in minutes it took for each runner to arrive at the Pizza Runner HQ to pickup the order?\n",
        "SELECT\n",
        "  r.runner_id,\n",
        "  ROUND(AVG((strftime('%s', r.n_pickup_time) - strftime('%s', c.order_time)) / 60.0), 2) AS avg_pickup_time_minutes\n",
        "FROM\n",
        "  runner_order r\n",
        "JOIN\n",
        "  customer_orders c\n",
        "ON\n",
        "  r.order_id = c.order_id\n",
        "WHERE\n",
        "  r.n_pickup_time IS NOT NULL\n",
        "GROUP BY\n",
        "  r.runner_id\n",
        "ORDER BY\n",
        "  r.runner_id;"
      ],
      "metadata": {
        "colab": {
          "base_uri": "https://localhost:8080/",
          "height": 137
        },
        "id": "17l3_cmlpvFc",
        "outputId": "e9192e20-09c8-4876-a1bf-fee629583f50"
      },
      "execution_count": 22,
      "outputs": [
        {
          "output_type": "stream",
          "name": "stdout",
          "text": [
            " * sqlite://\n",
            "Done.\n"
          ]
        },
        {
          "output_type": "execute_result",
          "data": {
            "text/plain": [
              "[(1, 15.68), (2, 23.72), (3, 10.47)]"
            ],
            "text/html": [
              "<table>\n",
              "    <thead>\n",
              "        <tr>\n",
              "            <th>runner_id</th>\n",
              "            <th>avg_pickup_time_minutes</th>\n",
              "        </tr>\n",
              "    </thead>\n",
              "    <tbody>\n",
              "        <tr>\n",
              "            <td>1</td>\n",
              "            <td>15.68</td>\n",
              "        </tr>\n",
              "        <tr>\n",
              "            <td>2</td>\n",
              "            <td>23.72</td>\n",
              "        </tr>\n",
              "        <tr>\n",
              "            <td>3</td>\n",
              "            <td>10.47</td>\n",
              "        </tr>\n",
              "    </tbody>\n",
              "</table>"
            ]
          },
          "metadata": {},
          "execution_count": 22
        }
      ]
    },
    {
      "cell_type": "code",
      "source": [
        "%%sql\n",
        "-- 3. Is there any relationship between the number of pizzas and how long the order takes to prepare?\n",
        "SELECT\n",
        "  c.pizza_id,\n",
        "  ROUND(AVG((strftime('%s', r.n_pickup_time) - strftime('%s', c.order_time)) / 60.0), 2) AS avg_time_to_prepare\n",
        "FROM\n",
        "  runner_order r\n",
        "JOIN\n",
        "  customer_orders c\n",
        "ON\n",
        "  r.order_id = c.order_id\n",
        "WHERE\n",
        "  r.n_pickup_time IS NOT NULL\n",
        "GROUP BY\n",
        "  c.pizza_id\n",
        "ORDER BY\n",
        "  c.pizza_id;"
      ],
      "metadata": {
        "colab": {
          "base_uri": "https://localhost:8080/",
          "height": 116
        },
        "id": "iERFigOkpuR2",
        "outputId": "07b6adf4-5614-42b2-a8dc-bcb23e6eea08"
      },
      "execution_count": 23,
      "outputs": [
        {
          "output_type": "stream",
          "name": "stdout",
          "text": [
            " * sqlite://\n",
            "Done.\n"
          ]
        },
        {
          "output_type": "execute_result",
          "data": {
            "text/plain": [
              "[(1, 18.04), (2, 20.26)]"
            ],
            "text/html": [
              "<table>\n",
              "    <thead>\n",
              "        <tr>\n",
              "            <th>pizza_id</th>\n",
              "            <th>avg_time_to_prepare</th>\n",
              "        </tr>\n",
              "    </thead>\n",
              "    <tbody>\n",
              "        <tr>\n",
              "            <td>1</td>\n",
              "            <td>18.04</td>\n",
              "        </tr>\n",
              "        <tr>\n",
              "            <td>2</td>\n",
              "            <td>20.26</td>\n",
              "        </tr>\n",
              "    </tbody>\n",
              "</table>"
            ]
          },
          "metadata": {},
          "execution_count": 23
        }
      ]
    },
    {
      "cell_type": "code",
      "source": [
        "%%sql\n",
        "-- 4. What was the average distance travelled for each customer?\n",
        "SELECT c.customer_id, ROUND(AVG(r.n_distance)) AS avg_dist FROM customer_order c\n",
        "JOIN runner_order r on c.order_id = r.order_id\n",
        "GROUP BY c.customer_id;"
      ],
      "metadata": {
        "colab": {
          "base_uri": "https://localhost:8080/",
          "height": 179
        },
        "id": "rpnXWDKnpuPI",
        "outputId": "00beb572-f3ad-4d4a-c5cb-450366294f53"
      },
      "execution_count": 24,
      "outputs": [
        {
          "output_type": "stream",
          "name": "stdout",
          "text": [
            " * sqlite://\n",
            "Done.\n"
          ]
        },
        {
          "output_type": "execute_result",
          "data": {
            "text/plain": [
              "[(101, 20.0), (102, 17.0), (103, 23.0), (104, 10.0), (105, 25.0)]"
            ],
            "text/html": [
              "<table>\n",
              "    <thead>\n",
              "        <tr>\n",
              "            <th>customer_id</th>\n",
              "            <th>avg_dist</th>\n",
              "        </tr>\n",
              "    </thead>\n",
              "    <tbody>\n",
              "        <tr>\n",
              "            <td>101</td>\n",
              "            <td>20.0</td>\n",
              "        </tr>\n",
              "        <tr>\n",
              "            <td>102</td>\n",
              "            <td>17.0</td>\n",
              "        </tr>\n",
              "        <tr>\n",
              "            <td>103</td>\n",
              "            <td>23.0</td>\n",
              "        </tr>\n",
              "        <tr>\n",
              "            <td>104</td>\n",
              "            <td>10.0</td>\n",
              "        </tr>\n",
              "        <tr>\n",
              "            <td>105</td>\n",
              "            <td>25.0</td>\n",
              "        </tr>\n",
              "    </tbody>\n",
              "</table>"
            ]
          },
          "metadata": {},
          "execution_count": 24
        }
      ]
    },
    {
      "cell_type": "code",
      "source": [
        "%%sql\n",
        "-- 5. What was the difference between the longest and shortest delivery times for all orders?\n",
        "select max(n_duration) - min(n_duration) as req_time\n",
        "from runner_order;"
      ],
      "metadata": {
        "colab": {
          "base_uri": "https://localhost:8080/",
          "height": 95
        },
        "id": "83RYBaNPpuMN",
        "outputId": "257dfa05-2492-4d53-e941-da2698c4d63d"
      },
      "execution_count": 25,
      "outputs": [
        {
          "output_type": "stream",
          "name": "stdout",
          "text": [
            " * sqlite://\n",
            "Done.\n"
          ]
        },
        {
          "output_type": "execute_result",
          "data": {
            "text/plain": [
              "[(30,)]"
            ],
            "text/html": [
              "<table>\n",
              "    <thead>\n",
              "        <tr>\n",
              "            <th>req_time</th>\n",
              "        </tr>\n",
              "    </thead>\n",
              "    <tbody>\n",
              "        <tr>\n",
              "            <td>30</td>\n",
              "        </tr>\n",
              "    </tbody>\n",
              "</table>"
            ]
          },
          "metadata": {},
          "execution_count": 25
        }
      ]
    },
    {
      "cell_type": "code",
      "source": [
        "%%sql\n",
        "-- 6. What was the average speed for each runner for each delivery and do you notice any trend for these values?\n",
        "SELECT\n",
        "  runner_id,\n",
        "  order_id,\n",
        "  round(AVG(n_distance) / AVG(n_duration / 60.0), 2) AS avg_speed\n",
        "FROM\n",
        "  runner_order\n",
        "WHERE\n",
        "  n_distance IS NOT NULL\n",
        "GROUP BY\n",
        "  runner_id,\n",
        "  order_id;"
      ],
      "metadata": {
        "colab": {
          "base_uri": "https://localhost:8080/",
          "height": 242
        },
        "id": "UlbsKv0dpuJH",
        "outputId": "10d59e30-5397-4802-f15d-9ee02c808af1"
      },
      "execution_count": 26,
      "outputs": [
        {
          "output_type": "stream",
          "name": "stdout",
          "text": [
            " * sqlite://\n",
            "Done.\n"
          ]
        },
        {
          "output_type": "execute_result",
          "data": {
            "text/plain": [
              "[(1, 1, 37.5),\n",
              " (1, 2, 44.44),\n",
              " (1, 3, 40.2),\n",
              " (1, 10, 60.0),\n",
              " (2, 4, 35.1),\n",
              " (2, 7, 60.0),\n",
              " (2, 8, 93.6),\n",
              " (3, 5, 40.0)]"
            ],
            "text/html": [
              "<table>\n",
              "    <thead>\n",
              "        <tr>\n",
              "            <th>runner_id</th>\n",
              "            <th>order_id</th>\n",
              "            <th>avg_speed</th>\n",
              "        </tr>\n",
              "    </thead>\n",
              "    <tbody>\n",
              "        <tr>\n",
              "            <td>1</td>\n",
              "            <td>1</td>\n",
              "            <td>37.5</td>\n",
              "        </tr>\n",
              "        <tr>\n",
              "            <td>1</td>\n",
              "            <td>2</td>\n",
              "            <td>44.44</td>\n",
              "        </tr>\n",
              "        <tr>\n",
              "            <td>1</td>\n",
              "            <td>3</td>\n",
              "            <td>40.2</td>\n",
              "        </tr>\n",
              "        <tr>\n",
              "            <td>1</td>\n",
              "            <td>10</td>\n",
              "            <td>60.0</td>\n",
              "        </tr>\n",
              "        <tr>\n",
              "            <td>2</td>\n",
              "            <td>4</td>\n",
              "            <td>35.1</td>\n",
              "        </tr>\n",
              "        <tr>\n",
              "            <td>2</td>\n",
              "            <td>7</td>\n",
              "            <td>60.0</td>\n",
              "        </tr>\n",
              "        <tr>\n",
              "            <td>2</td>\n",
              "            <td>8</td>\n",
              "            <td>93.6</td>\n",
              "        </tr>\n",
              "        <tr>\n",
              "            <td>3</td>\n",
              "            <td>5</td>\n",
              "            <td>40.0</td>\n",
              "        </tr>\n",
              "    </tbody>\n",
              "</table>"
            ]
          },
          "metadata": {},
          "execution_count": 26
        }
      ]
    },
    {
      "cell_type": "code",
      "source": [
        "%%sql\n",
        "-- 7. What is the successful delivery percentage for each runner?\n",
        "WITH succ_ord AS (\n",
        "  SELECT\n",
        "    runner_id,\n",
        "    COUNT(order_id) AS delivered\n",
        "  FROM\n",
        "    runner_order\n",
        "  WHERE\n",
        "    n_distance IS NOT NULL\n",
        "  GROUP BY\n",
        "    runner_id\n",
        ")\n",
        "SELECT\n",
        "  r.runner_id,\n",
        "  (CAST(succ_ord.delivered AS FLOAT) / COUNT(*) * 100) AS perc_deli\n",
        "FROM\n",
        "  succ_ord\n",
        "JOIN\n",
        "  runner_order r ON succ_ord.runner_id = r.runner_id\n",
        "GROUP BY\n",
        "  r.runner_id;"
      ],
      "metadata": {
        "colab": {
          "base_uri": "https://localhost:8080/",
          "height": 137
        },
        "id": "0Nqdtn8ppuGN",
        "outputId": "29c3d269-71f3-464c-98e3-a893ebd9125c"
      },
      "execution_count": 27,
      "outputs": [
        {
          "output_type": "stream",
          "name": "stdout",
          "text": [
            " * sqlite://\n",
            "Done.\n"
          ]
        },
        {
          "output_type": "execute_result",
          "data": {
            "text/plain": [
              "[(1, 100.0), (2, 75.0), (3, 50.0)]"
            ],
            "text/html": [
              "<table>\n",
              "    <thead>\n",
              "        <tr>\n",
              "            <th>runner_id</th>\n",
              "            <th>perc_deli</th>\n",
              "        </tr>\n",
              "    </thead>\n",
              "    <tbody>\n",
              "        <tr>\n",
              "            <td>1</td>\n",
              "            <td>100.0</td>\n",
              "        </tr>\n",
              "        <tr>\n",
              "            <td>2</td>\n",
              "            <td>75.0</td>\n",
              "        </tr>\n",
              "        <tr>\n",
              "            <td>3</td>\n",
              "            <td>50.0</td>\n",
              "        </tr>\n",
              "    </tbody>\n",
              "</table>"
            ]
          },
          "metadata": {},
          "execution_count": 27
        }
      ]
    },
    {
      "cell_type": "markdown",
      "source": [
        "# **C. Ingredient Optimisation**"
      ],
      "metadata": {
        "id": "MG2EpnY3sXz7"
      }
    },
    {
      "cell_type": "code",
      "source": [
        "%%sql\n",
        "-- 1. What are the standard ingredients for each pizza?\n",
        "\n",
        "SELECT\n",
        "  pr.pizza_id,\n",
        "  pt.topping_name\n",
        "FROM\n",
        "  pizza_recipes pr\n",
        "LEFT JOIN\n",
        "  pizza_toppings pt ON pr.toppings LIKE '%' || pt.topping_id || '%';\n"
      ],
      "metadata": {
        "colab": {
          "base_uri": "https://localhost:8080/",
          "height": 409
        },
        "id": "BRJFk8pPpuC3",
        "outputId": "e51b7f0c-5ea3-4684-db2f-8ed0140939f9"
      },
      "execution_count": 28,
      "outputs": [
        {
          "output_type": "stream",
          "name": "stdout",
          "text": [
            " * sqlite://\n",
            "Done.\n"
          ]
        },
        {
          "output_type": "execute_result",
          "data": {
            "text/plain": [
              "[(1, 'Bacon'),\n",
              " (1, 'BBQ Sauce'),\n",
              " (1, 'Beef'),\n",
              " (1, 'Cheese'),\n",
              " (1, 'Chicken'),\n",
              " (1, 'Mushrooms'),\n",
              " (1, 'Pepperoni'),\n",
              " (1, 'Salami'),\n",
              " (2, 'Bacon'),\n",
              " (2, 'BBQ Sauce'),\n",
              " (2, 'Cheese'),\n",
              " (2, 'Mushrooms'),\n",
              " (2, 'Onions'),\n",
              " (2, 'Peppers'),\n",
              " (2, 'Tomatoes'),\n",
              " (2, 'Tomato Sauce')]"
            ],
            "text/html": [
              "<table>\n",
              "    <thead>\n",
              "        <tr>\n",
              "            <th>pizza_id</th>\n",
              "            <th>topping_name</th>\n",
              "        </tr>\n",
              "    </thead>\n",
              "    <tbody>\n",
              "        <tr>\n",
              "            <td>1</td>\n",
              "            <td>Bacon</td>\n",
              "        </tr>\n",
              "        <tr>\n",
              "            <td>1</td>\n",
              "            <td>BBQ Sauce</td>\n",
              "        </tr>\n",
              "        <tr>\n",
              "            <td>1</td>\n",
              "            <td>Beef</td>\n",
              "        </tr>\n",
              "        <tr>\n",
              "            <td>1</td>\n",
              "            <td>Cheese</td>\n",
              "        </tr>\n",
              "        <tr>\n",
              "            <td>1</td>\n",
              "            <td>Chicken</td>\n",
              "        </tr>\n",
              "        <tr>\n",
              "            <td>1</td>\n",
              "            <td>Mushrooms</td>\n",
              "        </tr>\n",
              "        <tr>\n",
              "            <td>1</td>\n",
              "            <td>Pepperoni</td>\n",
              "        </tr>\n",
              "        <tr>\n",
              "            <td>1</td>\n",
              "            <td>Salami</td>\n",
              "        </tr>\n",
              "        <tr>\n",
              "            <td>2</td>\n",
              "            <td>Bacon</td>\n",
              "        </tr>\n",
              "        <tr>\n",
              "            <td>2</td>\n",
              "            <td>BBQ Sauce</td>\n",
              "        </tr>\n",
              "        <tr>\n",
              "            <td>2</td>\n",
              "            <td>Cheese</td>\n",
              "        </tr>\n",
              "        <tr>\n",
              "            <td>2</td>\n",
              "            <td>Mushrooms</td>\n",
              "        </tr>\n",
              "        <tr>\n",
              "            <td>2</td>\n",
              "            <td>Onions</td>\n",
              "        </tr>\n",
              "        <tr>\n",
              "            <td>2</td>\n",
              "            <td>Peppers</td>\n",
              "        </tr>\n",
              "        <tr>\n",
              "            <td>2</td>\n",
              "            <td>Tomatoes</td>\n",
              "        </tr>\n",
              "        <tr>\n",
              "            <td>2</td>\n",
              "            <td>Tomato Sauce</td>\n",
              "        </tr>\n",
              "    </tbody>\n",
              "</table>"
            ]
          },
          "metadata": {},
          "execution_count": 28
        }
      ]
    },
    {
      "cell_type": "code",
      "source": [
        "%%sql\n",
        "-- 2. What was the most commonly added extra?\n",
        "select extras_cleaned, count(extras_cleaned) as total_count\n",
        "from customer_order\n",
        "where extras_cleaned like '%'\n",
        "group by extras_cleaned;"
      ],
      "metadata": {
        "colab": {
          "base_uri": "https://localhost:8080/",
          "height": 137
        },
        "id": "oVLSPUGApt8k",
        "outputId": "2808340c-7fe1-4581-9ea0-61104f50c29b"
      },
      "execution_count": 29,
      "outputs": [
        {
          "output_type": "stream",
          "name": "stdout",
          "text": [
            " * sqlite://\n",
            "Done.\n"
          ]
        },
        {
          "output_type": "execute_result",
          "data": {
            "text/plain": [
              "[('1', 2), ('1, 4', 1), ('1, 5', 1)]"
            ],
            "text/html": [
              "<table>\n",
              "    <thead>\n",
              "        <tr>\n",
              "            <th>extras_cleaned</th>\n",
              "            <th>total_count</th>\n",
              "        </tr>\n",
              "    </thead>\n",
              "    <tbody>\n",
              "        <tr>\n",
              "            <td>1</td>\n",
              "            <td>2</td>\n",
              "        </tr>\n",
              "        <tr>\n",
              "            <td>1, 4</td>\n",
              "            <td>1</td>\n",
              "        </tr>\n",
              "        <tr>\n",
              "            <td>1, 5</td>\n",
              "            <td>1</td>\n",
              "        </tr>\n",
              "    </tbody>\n",
              "</table>"
            ]
          },
          "metadata": {},
          "execution_count": 29
        }
      ]
    },
    {
      "cell_type": "code",
      "source": [
        "%%sql\n",
        "-- 3. What was the most common exclusion?\n",
        "select exclusions_cleaned, count(exclusions_cleaned) as total_count\n",
        "from customer_order\n",
        "where exclusions_cleaned like '%'\n",
        "group by exclusions_cleaned;"
      ],
      "metadata": {
        "colab": {
          "base_uri": "https://localhost:8080/",
          "height": 116
        },
        "id": "N-opwuJVptus",
        "outputId": "968fa0db-c582-4cd8-ea1e-0c48e3cd25b9"
      },
      "execution_count": 30,
      "outputs": [
        {
          "output_type": "stream",
          "name": "stdout",
          "text": [
            " * sqlite://\n",
            "Done.\n"
          ]
        },
        {
          "output_type": "execute_result",
          "data": {
            "text/plain": [
              "[('2, 6', 1), ('4', 4)]"
            ],
            "text/html": [
              "<table>\n",
              "    <thead>\n",
              "        <tr>\n",
              "            <th>exclusions_cleaned</th>\n",
              "            <th>total_count</th>\n",
              "        </tr>\n",
              "    </thead>\n",
              "    <tbody>\n",
              "        <tr>\n",
              "            <td>2, 6</td>\n",
              "            <td>1</td>\n",
              "        </tr>\n",
              "        <tr>\n",
              "            <td>4</td>\n",
              "            <td>4</td>\n",
              "        </tr>\n",
              "    </tbody>\n",
              "</table>"
            ]
          },
          "metadata": {},
          "execution_count": 30
        }
      ]
    },
    {
      "cell_type": "code",
      "source": [
        "%%sql\n",
        "-- 4.   Generate an order item for each record in the customers_orders table in the format of one of the following:\n",
        "-- 4.1. Meat Lovers\n",
        "select order_id\n",
        "from customer_order\n",
        "where pizza_id = 1\n",
        "group by order_id;"
      ],
      "metadata": {
        "colab": {
          "base_uri": "https://localhost:8080/",
          "height": 242
        },
        "id": "53s5zxvbs0ff",
        "outputId": "d8d51bb3-f8d8-4168-db5b-fa376d3fdf9e"
      },
      "execution_count": 31,
      "outputs": [
        {
          "output_type": "stream",
          "name": "stdout",
          "text": [
            " * sqlite://\n",
            "Done.\n"
          ]
        },
        {
          "output_type": "execute_result",
          "data": {
            "text/plain": [
              "[(1,), (2,), (3,), (4,), (5,), (8,), (9,), (10,)]"
            ],
            "text/html": [
              "<table>\n",
              "    <thead>\n",
              "        <tr>\n",
              "            <th>order_id</th>\n",
              "        </tr>\n",
              "    </thead>\n",
              "    <tbody>\n",
              "        <tr>\n",
              "            <td>1</td>\n",
              "        </tr>\n",
              "        <tr>\n",
              "            <td>2</td>\n",
              "        </tr>\n",
              "        <tr>\n",
              "            <td>3</td>\n",
              "        </tr>\n",
              "        <tr>\n",
              "            <td>4</td>\n",
              "        </tr>\n",
              "        <tr>\n",
              "            <td>5</td>\n",
              "        </tr>\n",
              "        <tr>\n",
              "            <td>8</td>\n",
              "        </tr>\n",
              "        <tr>\n",
              "            <td>9</td>\n",
              "        </tr>\n",
              "        <tr>\n",
              "            <td>10</td>\n",
              "        </tr>\n",
              "    </tbody>\n",
              "</table>"
            ]
          },
          "metadata": {},
          "execution_count": 31
        }
      ]
    },
    {
      "cell_type": "code",
      "source": [
        "%%sql\n",
        "-- 4.2. Meat Lovers - Exclude Beef\n",
        "select order_id\n",
        "from customer_order\n",
        "where pizza_id = 1 and exclusions_cleaned = 3\n",
        "group by order_id;"
      ],
      "metadata": {
        "colab": {
          "base_uri": "https://localhost:8080/",
          "height": 74
        },
        "id": "eweZByh3s0Tf",
        "outputId": "ea6e1141-7eec-405c-b73b-90d5c7779b96"
      },
      "execution_count": 32,
      "outputs": [
        {
          "output_type": "stream",
          "name": "stdout",
          "text": [
            " * sqlite://\n",
            "Done.\n"
          ]
        },
        {
          "output_type": "execute_result",
          "data": {
            "text/plain": [
              "[]"
            ],
            "text/html": [
              "<table>\n",
              "    <thead>\n",
              "        <tr>\n",
              "            <th>order_id</th>\n",
              "        </tr>\n",
              "    </thead>\n",
              "    <tbody>\n",
              "    </tbody>\n",
              "</table>"
            ]
          },
          "metadata": {},
          "execution_count": 32
        }
      ]
    },
    {
      "cell_type": "code",
      "source": [
        "%%sql\n",
        "-- 4.3. Meat Lovers - Extra Bacon\n",
        "select order_id\n",
        "from customer_order\n",
        "where pizza_id = 1 and extras_cleaned in (1, 4)\n",
        "group by order_id;"
      ],
      "metadata": {
        "colab": {
          "base_uri": "https://localhost:8080/",
          "height": 74
        },
        "id": "D8qXoOzes0K-",
        "outputId": "027da5d8-cc1c-4b54-9dab-c1f2e27130d3"
      },
      "execution_count": 33,
      "outputs": [
        {
          "output_type": "stream",
          "name": "stdout",
          "text": [
            " * sqlite://\n",
            "Done.\n"
          ]
        },
        {
          "output_type": "execute_result",
          "data": {
            "text/plain": [
              "[]"
            ],
            "text/html": [
              "<table>\n",
              "    <thead>\n",
              "        <tr>\n",
              "            <th>order_id</th>\n",
              "        </tr>\n",
              "    </thead>\n",
              "    <tbody>\n",
              "    </tbody>\n",
              "</table>"
            ]
          },
          "metadata": {},
          "execution_count": 33
        }
      ]
    },
    {
      "cell_type": "code",
      "source": [
        "%%sql\n",
        "-- 4.4. Meat Lovers - Exclude Cheese, Bacon - Extra Mushroom, Peppers\n",
        "SELECT\n",
        "    order_id,\n",
        "    CASE\n",
        "        WHEN pizza_id = 1\n",
        "            AND exclusions_cleaned LIKE '%1%' OR exclusions_cleaned LIKE '%4%'\n",
        "            AND extras_cleaned LIKE '%6%' OR extras_cleaned LIKE '%9%' THEN 1\n",
        "        ELSE 0\n",
        "    END AS order_count\n",
        "FROM\n",
        "    customer_order\n",
        "GROUP BY\n",
        "    order_id;\n"
      ],
      "metadata": {
        "colab": {
          "base_uri": "https://localhost:8080/",
          "height": 284
        },
        "id": "vsYJoxqNtLSL",
        "outputId": "87d07325-c4f2-47dd-bcdd-fa60220572bb"
      },
      "execution_count": 45,
      "outputs": [
        {
          "output_type": "stream",
          "name": "stdout",
          "text": [
            " * sqlite://\n",
            "Done.\n"
          ]
        },
        {
          "output_type": "execute_result",
          "data": {
            "text/plain": [
              "[(1, 0),\n",
              " (2, 0),\n",
              " (3, 0),\n",
              " (4, 0),\n",
              " (5, 0),\n",
              " (6, 0),\n",
              " (7, 0),\n",
              " (8, 0),\n",
              " (9, 0),\n",
              " (10, 0)]"
            ],
            "text/html": [
              "<table>\n",
              "    <thead>\n",
              "        <tr>\n",
              "            <th>order_id</th>\n",
              "            <th>order_count</th>\n",
              "        </tr>\n",
              "    </thead>\n",
              "    <tbody>\n",
              "        <tr>\n",
              "            <td>1</td>\n",
              "            <td>0</td>\n",
              "        </tr>\n",
              "        <tr>\n",
              "            <td>2</td>\n",
              "            <td>0</td>\n",
              "        </tr>\n",
              "        <tr>\n",
              "            <td>3</td>\n",
              "            <td>0</td>\n",
              "        </tr>\n",
              "        <tr>\n",
              "            <td>4</td>\n",
              "            <td>0</td>\n",
              "        </tr>\n",
              "        <tr>\n",
              "            <td>5</td>\n",
              "            <td>0</td>\n",
              "        </tr>\n",
              "        <tr>\n",
              "            <td>6</td>\n",
              "            <td>0</td>\n",
              "        </tr>\n",
              "        <tr>\n",
              "            <td>7</td>\n",
              "            <td>0</td>\n",
              "        </tr>\n",
              "        <tr>\n",
              "            <td>8</td>\n",
              "            <td>0</td>\n",
              "        </tr>\n",
              "        <tr>\n",
              "            <td>9</td>\n",
              "            <td>0</td>\n",
              "        </tr>\n",
              "        <tr>\n",
              "            <td>10</td>\n",
              "            <td>0</td>\n",
              "        </tr>\n",
              "    </tbody>\n",
              "</table>"
            ]
          },
          "metadata": {},
          "execution_count": 45
        }
      ]
    },
    {
      "cell_type": "markdown",
      "source": [
        "# **D. Pricing and Ratings**"
      ],
      "metadata": {
        "id": "XqzdmZn717NG"
      }
    },
    {
      "cell_type": "code",
      "source": [
        "%%sql\n",
        "-- 1. If a Meat Lovers pizza costs $12 and Vegetarian costs $10 and there were no charges for changes -\n",
        "-- how much money has Pizza Runner made so far if there are no delivery fees?\n",
        "select sum(case when pizza_id = 1 then 12 else 10 end) as total_revenue\n",
        "from customer_order c\n",
        "join runner_order r on c.order_id = r.order_id\n",
        "where r.n_cancellation is null;"
      ],
      "metadata": {
        "colab": {
          "base_uri": "https://localhost:8080/",
          "height": 95
        },
        "id": "yVEopSrKxQYF",
        "outputId": "8d99c534-a572-47d7-e34e-560bb6e5b09c"
      },
      "execution_count": 35,
      "outputs": [
        {
          "output_type": "stream",
          "name": "stdout",
          "text": [
            " * sqlite://\n",
            "Done.\n"
          ]
        },
        {
          "output_type": "execute_result",
          "data": {
            "text/plain": [
              "[(138,)]"
            ],
            "text/html": [
              "<table>\n",
              "    <thead>\n",
              "        <tr>\n",
              "            <th>total_revenue</th>\n",
              "        </tr>\n",
              "    </thead>\n",
              "    <tbody>\n",
              "        <tr>\n",
              "            <td>138</td>\n",
              "        </tr>\n",
              "    </tbody>\n",
              "</table>"
            ]
          },
          "metadata": {},
          "execution_count": 35
        }
      ]
    },
    {
      "cell_type": "code",
      "source": [
        "%%sql\n",
        "-- 2. What if there was an additional $1 charge for any pizza extras? Add cheese is $1 extra\n",
        "select sum(case when pizza_id = 1 then 12 else 10 end + case when extras_cleaned like '%4%' then 1 else 0 end + case when extras_cleaned is not null  then 1 else 0 end) as total_revenue\n",
        "from customer_order c\n",
        "join runner_order r on c.order_id = r.order_id\n",
        "where r.n_cancellation is null;"
      ],
      "metadata": {
        "colab": {
          "base_uri": "https://localhost:8080/",
          "height": 95
        },
        "id": "Xr87SQxHxQQ0",
        "outputId": "57490e91-ce67-45ff-9d43-9faf800e3003"
      },
      "execution_count": 36,
      "outputs": [
        {
          "output_type": "stream",
          "name": "stdout",
          "text": [
            " * sqlite://\n",
            "Done.\n"
          ]
        },
        {
          "output_type": "execute_result",
          "data": {
            "text/plain": [
              "[(142,)]"
            ],
            "text/html": [
              "<table>\n",
              "    <thead>\n",
              "        <tr>\n",
              "            <th>total_revenue</th>\n",
              "        </tr>\n",
              "    </thead>\n",
              "    <tbody>\n",
              "        <tr>\n",
              "            <td>142</td>\n",
              "        </tr>\n",
              "    </tbody>\n",
              "</table>"
            ]
          },
          "metadata": {},
          "execution_count": 36
        }
      ]
    },
    {
      "cell_type": "code",
      "source": [
        "%%sql\n",
        "-- 3. The Pizza Runner team now wants to add an additional ratings system that allows customers to rate their runner,\n",
        "-- how would you design an additional table for this new dataset - generate a schema for this new table and insert your\n",
        "-- own data for ratings for each successful customer order between 1 to 5.\n",
        "CREATE TABLE ratings (n_order_id INT , rating INT);\n",
        "INSERT INTO ratings (n_order_id, rating) VALUES (1,3), (2,4), (3,5), (4,2),(5,1), (6,3), (7,4), (8,1), (9,3), (10,5);"
      ],
      "metadata": {
        "colab": {
          "base_uri": "https://localhost:8080/"
        },
        "id": "tMEJ9qYG89sb",
        "outputId": "9e268e04-56cc-4a39-9968-85a61a1df057"
      },
      "execution_count": 37,
      "outputs": [
        {
          "output_type": "stream",
          "name": "stdout",
          "text": [
            " * sqlite://\n",
            "Done.\n",
            "10 rows affected.\n"
          ]
        },
        {
          "output_type": "execute_result",
          "data": {
            "text/plain": [
              "[]"
            ]
          },
          "metadata": {},
          "execution_count": 37
        }
      ]
    },
    {
      "cell_type": "code",
      "source": [
        "%%sql\n",
        "-- 4. Using your newly generated table - can you join all of the information together to form a table\n",
        "-- which has the following information for successful deliveries?\n",
        "-- customer_id\n",
        "-- order_id\n",
        "-- runner_id\n",
        "-- rating\n",
        "-- order_time\n",
        "-- pickup_time\n",
        "-- Time between order and pickup\n",
        "-- Delivery duration\n",
        "-- Average speed\n",
        "-- Total number of pizzas\n",
        "\n",
        "SELECT\n",
        "    c.customer_id,\n",
        "    c.order_id,\n",
        "    c.order_time,\n",
        "    r.runner_id,\n",
        "    r.n_duration,\n",
        "    r.n_pickup_time,\n",
        "    rs.rating,\n",
        "    (strftime('%s', r.n_pickup_time) - strftime('%s', c.order_time)) / 60 AS order_pickup_time,\n",
        "    ROUND(AVG(r.n_distance / (r.n_duration / 60.0)), 2) AS avg_speed,\n",
        "    COUNT(c.pizza_id) AS total_pizza\n",
        "FROM\n",
        "    customer_order c\n",
        "JOIN\n",
        "    runner_order r ON r.order_id = c.order_id\n",
        "JOIN\n",
        "    ratings rs ON c.order_id = rs.n_order_id\n",
        "WHERE\n",
        "    r.n_cancellation IS NULL\n",
        "GROUP BY\n",
        "    c.customer_id,\n",
        "    c.order_id,\n",
        "    c.order_time,\n",
        "    r.runner_id;\n"
      ],
      "metadata": {
        "colab": {
          "base_uri": "https://localhost:8080/",
          "height": 242
        },
        "id": "L0JV_1XwxQBO",
        "outputId": "93142b28-66cb-483c-de3d-a7ac0f7e3003"
      },
      "execution_count": 38,
      "outputs": [
        {
          "output_type": "stream",
          "name": "stdout",
          "text": [
            " * sqlite://\n",
            "Done.\n"
          ]
        },
        {
          "output_type": "execute_result",
          "data": {
            "text/plain": [
              "[(101, 1, '2020-01-01 18:05:02', 1, '32 ', '2020-01-01 18:15:34', 3, 10, 37.5, 1),\n",
              " (101, 2, '2020-01-01 19:00:52', 1, '27 ', '2020-01-01 19:10:54', 4, 10, 44.44, 1),\n",
              " (102, 3, '2020-01-02 23:51:23', 1, '20 ', '2020-01-03 00:12:37', 5, 21, 40.2, 2),\n",
              " (102, 8, '2020-01-09 23:54:33', 2, '15 ', '2020-01-10 00:15:02', 1, 20, 93.6, 1),\n",
              " (103, 4, '2020-01-04 13:23:46', 2, '40', '2020-01-04 13:53:03', 2, 29, 35.1, 3),\n",
              " (104, 5, '2020-01-08 21:00:29', 3, '15', '2020-01-08 21:10:57', 1, 10, 40.0, 1),\n",
              " (104, 10, '2020-01-11 18:34:49', 1, '10', '2020-01-11 18:50:20', 5, 15, 60.0, 2),\n",
              " (105, 7, '2020-01-08 21:20:29', 2, '25', '2020-01-08 21:30:45', 4, 10, 60.0, 1)]"
            ],
            "text/html": [
              "<table>\n",
              "    <thead>\n",
              "        <tr>\n",
              "            <th>customer_id</th>\n",
              "            <th>order_id</th>\n",
              "            <th>order_time</th>\n",
              "            <th>runner_id</th>\n",
              "            <th>n_duration</th>\n",
              "            <th>n_pickup_time</th>\n",
              "            <th>rating</th>\n",
              "            <th>order_pickup_time</th>\n",
              "            <th>avg_speed</th>\n",
              "            <th>total_pizza</th>\n",
              "        </tr>\n",
              "    </thead>\n",
              "    <tbody>\n",
              "        <tr>\n",
              "            <td>101</td>\n",
              "            <td>1</td>\n",
              "            <td>2020-01-01 18:05:02</td>\n",
              "            <td>1</td>\n",
              "            <td>32 </td>\n",
              "            <td>2020-01-01 18:15:34</td>\n",
              "            <td>3</td>\n",
              "            <td>10</td>\n",
              "            <td>37.5</td>\n",
              "            <td>1</td>\n",
              "        </tr>\n",
              "        <tr>\n",
              "            <td>101</td>\n",
              "            <td>2</td>\n",
              "            <td>2020-01-01 19:00:52</td>\n",
              "            <td>1</td>\n",
              "            <td>27 </td>\n",
              "            <td>2020-01-01 19:10:54</td>\n",
              "            <td>4</td>\n",
              "            <td>10</td>\n",
              "            <td>44.44</td>\n",
              "            <td>1</td>\n",
              "        </tr>\n",
              "        <tr>\n",
              "            <td>102</td>\n",
              "            <td>3</td>\n",
              "            <td>2020-01-02 23:51:23</td>\n",
              "            <td>1</td>\n",
              "            <td>20 </td>\n",
              "            <td>2020-01-03 00:12:37</td>\n",
              "            <td>5</td>\n",
              "            <td>21</td>\n",
              "            <td>40.2</td>\n",
              "            <td>2</td>\n",
              "        </tr>\n",
              "        <tr>\n",
              "            <td>102</td>\n",
              "            <td>8</td>\n",
              "            <td>2020-01-09 23:54:33</td>\n",
              "            <td>2</td>\n",
              "            <td>15 </td>\n",
              "            <td>2020-01-10 00:15:02</td>\n",
              "            <td>1</td>\n",
              "            <td>20</td>\n",
              "            <td>93.6</td>\n",
              "            <td>1</td>\n",
              "        </tr>\n",
              "        <tr>\n",
              "            <td>103</td>\n",
              "            <td>4</td>\n",
              "            <td>2020-01-04 13:23:46</td>\n",
              "            <td>2</td>\n",
              "            <td>40</td>\n",
              "            <td>2020-01-04 13:53:03</td>\n",
              "            <td>2</td>\n",
              "            <td>29</td>\n",
              "            <td>35.1</td>\n",
              "            <td>3</td>\n",
              "        </tr>\n",
              "        <tr>\n",
              "            <td>104</td>\n",
              "            <td>5</td>\n",
              "            <td>2020-01-08 21:00:29</td>\n",
              "            <td>3</td>\n",
              "            <td>15</td>\n",
              "            <td>2020-01-08 21:10:57</td>\n",
              "            <td>1</td>\n",
              "            <td>10</td>\n",
              "            <td>40.0</td>\n",
              "            <td>1</td>\n",
              "        </tr>\n",
              "        <tr>\n",
              "            <td>104</td>\n",
              "            <td>10</td>\n",
              "            <td>2020-01-11 18:34:49</td>\n",
              "            <td>1</td>\n",
              "            <td>10</td>\n",
              "            <td>2020-01-11 18:50:20</td>\n",
              "            <td>5</td>\n",
              "            <td>15</td>\n",
              "            <td>60.0</td>\n",
              "            <td>2</td>\n",
              "        </tr>\n",
              "        <tr>\n",
              "            <td>105</td>\n",
              "            <td>7</td>\n",
              "            <td>2020-01-08 21:20:29</td>\n",
              "            <td>2</td>\n",
              "            <td>25</td>\n",
              "            <td>2020-01-08 21:30:45</td>\n",
              "            <td>4</td>\n",
              "            <td>10</td>\n",
              "            <td>60.0</td>\n",
              "            <td>1</td>\n",
              "        </tr>\n",
              "    </tbody>\n",
              "</table>"
            ]
          },
          "metadata": {},
          "execution_count": 38
        }
      ]
    },
    {
      "cell_type": "code",
      "source": [
        "%%sql\n",
        "-- 5. If a Meat Lovers pizza was $12 and Vegetarian $10 fixed prices with no cost for extras and each runner\n",
        "-- is paid $0.30 per kilometre traveled - how much money does Pizza Runner have left over after these deliveries?\n",
        "SELECT runner_id, SUM(pizza_cost) AS total_revenue,\n",
        "       SUM(n_distance) * 0.3 AS total_spend,\n",
        "       SUM(pizza_cost) - SUM(n_distance) * 0.3 AS profit\n",
        "FROM (SELECT r.runner_id, r.n_distance,\n",
        "       CASE\n",
        "\t\t\tWHEN c.pizza_id = 1 THEN 12\n",
        "\t\t\tWHEN c.pizza_id = 2 THEN 10 END AS pizza_cost\n",
        "       FROM customer_orders c\n",
        "       JOIN runner_order r ON c.order_id = r.order_id\n",
        "       WHERE r.n_cancellation IS NULL) AS pizza_cost_per_run\n",
        "GROUP BY runner_id;"
      ],
      "metadata": {
        "colab": {
          "base_uri": "https://localhost:8080/",
          "height": 137
        },
        "id": "CTKNcq7kxP5n",
        "outputId": "54ee0997-1d97-49f1-fcb8-192c1bac653e"
      },
      "execution_count": 39,
      "outputs": [
        {
          "output_type": "stream",
          "name": "stdout",
          "text": [
            " * sqlite://\n",
            "Done.\n"
          ]
        },
        {
          "output_type": "execute_result",
          "data": {
            "text/plain": [
              "[(1, 70, 26.04, 43.96), (2, 56, 35.58, 20.42), (3, 12, 3.0, 9.0)]"
            ],
            "text/html": [
              "<table>\n",
              "    <thead>\n",
              "        <tr>\n",
              "            <th>runner_id</th>\n",
              "            <th>total_revenue</th>\n",
              "            <th>total_spend</th>\n",
              "            <th>profit</th>\n",
              "        </tr>\n",
              "    </thead>\n",
              "    <tbody>\n",
              "        <tr>\n",
              "            <td>1</td>\n",
              "            <td>70</td>\n",
              "            <td>26.04</td>\n",
              "            <td>43.96</td>\n",
              "        </tr>\n",
              "        <tr>\n",
              "            <td>2</td>\n",
              "            <td>56</td>\n",
              "            <td>35.58</td>\n",
              "            <td>20.42</td>\n",
              "        </tr>\n",
              "        <tr>\n",
              "            <td>3</td>\n",
              "            <td>12</td>\n",
              "            <td>3.0</td>\n",
              "            <td>9.0</td>\n",
              "        </tr>\n",
              "    </tbody>\n",
              "</table>"
            ]
          },
          "metadata": {},
          "execution_count": 39
        }
      ]
    }
  ]
}